{
 "cells": [
  {
   "cell_type": "markdown",
   "metadata": {},
   "source": [
    "# Hackathon Big Data\n",
    "\n",
    "O primeiro desafio consiste em um cenário de previsão, onde o objetivo será prever o faturamento de cada uma das franquias de uma rede de lojas, onde as franquias estão espalhadas em todo o Brasil.\n",
    "\n",
    "O segundo desafio consiste em um cenário de expansão, onde o objetivo será prever o faturamento que uma loja teria caso ela existisse em uma região que a franquia ainda não atua.\n",
    "\n",
    "Este tipo de problema é muito importante para uma rede de franquias existente. A previsão do faturamento é importante para que a franquia possa ter uma estimativa da quantia que ela terá disponível para realizar investimentos e expansão das lojas. A previsão do faturamento em regiões que a loja não atua é importante para que a franquia possa realizar uma expansão mirando as regiões em que ela teria o maior faturamento possível.\n",
    "\n",
    "# Desafio\n",
    "\n",
    "**1. Prever o faturamento de lojas existentes na base de dados**\n",
    "\n",
    "* Neste desafio as equipes deverão prever a média do faturamento mensal dos primeiros três meses de 2018 de cada loja presente na base de dados disponibilizada.\n",
    "\n",
    "**2. Projetar o faturamento de novas lojas**\n",
    "\n",
    "* Neste desafio as equipes deverão prever a média do faturamento mensal dos primeiros três meses de 2018 caso a loja existisse em uma região especificada.\n",
    "\n",
    "O _notebook_ a seguir é estruturado da seguinte forma:\n",
    "\n",
    "* 1. Imports\n",
    "* 2. Descrição dos Dados\n",
    "* 3. Feature Engineering\n",
    "* 4. Análise de Dados Exploratória\n",
    "* 5. Preparação dos dados\n",
    "* 6. Seleção de _Features_\n",
    "* 7. Modelagem de _Machine Learning_\n",
    "* 8. Aprimoramento de _Hyperparameters_\n",
    "* 9. Interpretação dos Resultados"
   ]
  },
  {
   "cell_type": "markdown",
   "metadata": {},
   "source": [
    "# 1. Coleta de dados\n",
    "\n",
    "## 1.1. Imports"
   ]
  },
  {
   "cell_type": "code",
   "execution_count": 1,
   "metadata": {
    "ExecuteTime": {
     "end_time": "2020-11-11T21:47:37.392360Z",
     "start_time": "2020-11-11T21:47:35.976041Z"
    },
    "scrolled": false
   },
   "outputs": [],
   "source": [
    "import pandas as pd\n",
    "import numpy as np\n",
    "import seaborn as sns\n",
    "import matplotlib.pyplot as plt\n",
    "import datetime\n",
    "import pickle\n",
    "import requests\n",
    "from tqdm import tqdm"
   ]
  },
  {
   "cell_type": "markdown",
   "metadata": {},
   "source": [
    "## 1.2. Funções Auxiliares"
   ]
  },
  {
   "cell_type": "code",
   "execution_count": 2,
   "metadata": {
    "ExecuteTime": {
     "end_time": "2020-11-11T21:47:37.437240Z",
     "start_time": "2020-11-11T21:47:37.398227Z"
    }
   },
   "outputs": [],
   "source": [
    "def jupyter_settings():\n",
    "    %matplotlib inline\n",
    "    %pylab inline\n",
    "    \n",
    "    plt.style.use( 'bmh' )\n",
    "    plt.rcParams['figure.figsize'] = [25, 30]\n",
    "    plt.rcParams['font.size'] = 20\n",
    "    plt.rcParams[\"axes.labelsize\"] = 30\n",
    "    \n",
    "    pd.options.display.max_columns = None\n",
    "    pd.options.display.max_rows = None\n",
    "    pd.set_option( 'display.expand_frame_repr', False )\n",
    "    pd.options.display.float_format = '{:,.2f}'.format\n",
    "    \n",
    "    sns.set(font_scale = 1.5)\n",
    "    \n",
    "def calc_offset_date(df, ano, mes, min_ano = None, min_mes = None):\n",
    "    '''\n",
    "    Retorna o valor de offset_date\n",
    "    '''\n",
    "    \n",
    "    if not min_ano:\n",
    "        min_ano = df['ano'].min()\n",
    "    \n",
    "    if not min_mes:\n",
    "        min_mes = df[df['ano'] == min_ano]['mes'].min()\n",
    "        \n",
    "    offset_date = (ano - min_ano) * (12) + mes - min_mes\n",
    "    \n",
    "    return offset_date\n",
    "\n",
    "def get_offset_date(df):\n",
    "    '''\n",
    "    Coleta o vetor de offset_date\n",
    "    '''   \n",
    "        \n",
    "    min_ano = df['ano'].min()\n",
    "    min_mes = df[df['ano'] == min_ano]['mes'].min()\n",
    "    \n",
    "    offset_date_list = []\n",
    "    \n",
    "    for i in tqdm(range(len(df))):\n",
    "        \n",
    "        row = df.loc[i]\n",
    "        offset_date = calc_offset_date(df, row['ano'], row['mes'], min_ano, min_mes)\n",
    "        offset_date_list.append(offset_date)\n",
    "        \n",
    "    return offset_date_list"
   ]
  },
  {
   "cell_type": "code",
   "execution_count": 3,
   "metadata": {
    "ExecuteTime": {
     "end_time": "2020-11-11T21:47:37.468073Z",
     "start_time": "2020-11-11T21:47:37.445104Z"
    }
   },
   "outputs": [
    {
     "name": "stdout",
     "output_type": "stream",
     "text": [
      "Populating the interactive namespace from numpy and matplotlib\n"
     ]
    }
   ],
   "source": [
    "jupyter_settings()"
   ]
  },
  {
   "cell_type": "markdown",
   "metadata": {},
   "source": [
    "## 1.3. Carregando dados\n",
    "\n",
    "São fornecidos 3 arquivos csv, sendo que o objetivo do problema é predizer a coluna \"receita\" para o dataset de teste.\n",
    "\n",
    "* **Arquivos**\n",
    "\n",
    "    * faturamento_lojas_atuais.csv: Faturamento mensal das lojas, contendo informações dos anos de 2016 e 2017\n",
    "\n",
    "    * lojas_atuais.csv: Não iremos disponibilizar uma descrição das variáveis presentes neste arquivo. Elas representam as características das lojas, como a metragem, número de cadeiras, número de funcionários, etc. Este arquivo também contém  informações da localização da loja. As colunas de localização serão o código do município e código da área de ponderação. Estes códigos são os mesmos utilizados pelo IBGE\n",
    "\n",
    "    * cenarios_exapansao.csv: Dados cadastrais de lojas para serem utilizadas no desafio 2. Este arquivo contém as mesmas informações contidas no arquivo lojas_atuais.csv\n",
    "    \n",
    "* **Features**\n",
    "\n",
    "    * faturamento_lojas_atuais.csv:\n",
    "        \n",
    "        * cod_loja - número de identificação da loja, é único para cada loja\n",
    "        \n",
    "        * ano - ano de registro da receita\n",
    "        \n",
    "        * mes - mes de registro da receita\n",
    "        \n",
    "        * categoria (?) - categoria de produto vendido\n",
    "        \n",
    "        * qtde (?) - quantidade de produtos da categoria vendidos\n",
    "        \n",
    "        * receita - receita para a respectiva categoria de produtos no mês e ano especificados\n",
    "        \n",
    "    * lojas_atuais.csv e cenarios_expansao.csv:\n",
    "        \n",
    "        * cod_loja - número de identificação da loja, é único para cada loja\n",
    "        \n",
    "        * cod_ap - código de área de ponderação, definido pelo IBGE e restringem pequenas áreas dentro de municípios\n",
    "        \n",
    "        * cod_municipio - código do município, definido pelo IBGE\n",
    "        \n",
    "        * feature_01 a feature_18 - não explicitadas\n",
    "        \n",
    "Será elaborada a _dataframe_ **\"df_raw\"**, oriunda da junção de **\"df_faturamento_raw\"** e **\"df_lojas_raw\"**, carregados dos _datasets_ fornecidos. Por consequência, uma mesma loja possuirá várias linhas, representando o faturamento mês a mes."
   ]
  },
  {
   "cell_type": "code",
   "execution_count": 4,
   "metadata": {
    "ExecuteTime": {
     "end_time": "2020-11-11T21:47:38.570090Z",
     "start_time": "2020-11-11T21:47:37.471031Z"
    }
   },
   "outputs": [
    {
     "data": {
      "text/html": [
       "<div>\n",
       "<style scoped>\n",
       "    .dataframe tbody tr th:only-of-type {\n",
       "        vertical-align: middle;\n",
       "    }\n",
       "\n",
       "    .dataframe tbody tr th {\n",
       "        vertical-align: top;\n",
       "    }\n",
       "\n",
       "    .dataframe thead th {\n",
       "        text-align: right;\n",
       "    }\n",
       "</style>\n",
       "<table border=\"1\" class=\"dataframe\">\n",
       "  <thead>\n",
       "    <tr style=\"text-align: right;\">\n",
       "      <th></th>\n",
       "      <th>cod_loja</th>\n",
       "      <th>cod_ap</th>\n",
       "      <th>cod_municipio</th>\n",
       "      <th>feature_01</th>\n",
       "      <th>feature_02</th>\n",
       "      <th>feature_03</th>\n",
       "      <th>feature_04</th>\n",
       "      <th>feature_05</th>\n",
       "      <th>feature_06</th>\n",
       "      <th>feature_07</th>\n",
       "      <th>feature_08</th>\n",
       "      <th>feature_09</th>\n",
       "      <th>feature_10</th>\n",
       "      <th>feature_11</th>\n",
       "      <th>feature_12</th>\n",
       "      <th>feature_13</th>\n",
       "      <th>feature_14</th>\n",
       "      <th>feature_15</th>\n",
       "      <th>feature_16</th>\n",
       "      <th>feature_17</th>\n",
       "      <th>feature_18</th>\n",
       "      <th>ano</th>\n",
       "      <th>mes</th>\n",
       "      <th>categoria</th>\n",
       "      <th>qtde</th>\n",
       "      <th>receita</th>\n",
       "    </tr>\n",
       "  </thead>\n",
       "  <tbody>\n",
       "    <tr>\n",
       "      <th>0</th>\n",
       "      <td>1</td>\n",
       "      <td>4125506005002</td>\n",
       "      <td>4125506</td>\n",
       "      <td>NaN</td>\n",
       "      <td>FEATURE_02_VALUE_04</td>\n",
       "      <td>True</td>\n",
       "      <td>21.76</td>\n",
       "      <td>FEATURE_05_VALUE_04</td>\n",
       "      <td>31</td>\n",
       "      <td>0.17</td>\n",
       "      <td>0.17</td>\n",
       "      <td>115.96</td>\n",
       "      <td>2.35</td>\n",
       "      <td>NaN</td>\n",
       "      <td>NaN</td>\n",
       "      <td>nan</td>\n",
       "      <td>nan</td>\n",
       "      <td>nan</td>\n",
       "      <td>nan</td>\n",
       "      <td>nan</td>\n",
       "      <td>nan</td>\n",
       "      <td>2016</td>\n",
       "      <td>1</td>\n",
       "      <td>CATEG_01</td>\n",
       "      <td>301.00</td>\n",
       "      <td>9,164.86</td>\n",
       "    </tr>\n",
       "    <tr>\n",
       "      <th>1</th>\n",
       "      <td>1</td>\n",
       "      <td>4125506005002</td>\n",
       "      <td>4125506</td>\n",
       "      <td>NaN</td>\n",
       "      <td>FEATURE_02_VALUE_04</td>\n",
       "      <td>True</td>\n",
       "      <td>21.76</td>\n",
       "      <td>FEATURE_05_VALUE_04</td>\n",
       "      <td>31</td>\n",
       "      <td>0.17</td>\n",
       "      <td>0.17</td>\n",
       "      <td>115.96</td>\n",
       "      <td>2.35</td>\n",
       "      <td>NaN</td>\n",
       "      <td>NaN</td>\n",
       "      <td>nan</td>\n",
       "      <td>nan</td>\n",
       "      <td>nan</td>\n",
       "      <td>nan</td>\n",
       "      <td>nan</td>\n",
       "      <td>nan</td>\n",
       "      <td>2016</td>\n",
       "      <td>2</td>\n",
       "      <td>CATEG_01</td>\n",
       "      <td>187.00</td>\n",
       "      <td>8,175.55</td>\n",
       "    </tr>\n",
       "    <tr>\n",
       "      <th>2</th>\n",
       "      <td>1</td>\n",
       "      <td>4125506005002</td>\n",
       "      <td>4125506</td>\n",
       "      <td>NaN</td>\n",
       "      <td>FEATURE_02_VALUE_04</td>\n",
       "      <td>True</td>\n",
       "      <td>21.76</td>\n",
       "      <td>FEATURE_05_VALUE_04</td>\n",
       "      <td>31</td>\n",
       "      <td>0.17</td>\n",
       "      <td>0.17</td>\n",
       "      <td>115.96</td>\n",
       "      <td>2.35</td>\n",
       "      <td>NaN</td>\n",
       "      <td>NaN</td>\n",
       "      <td>nan</td>\n",
       "      <td>nan</td>\n",
       "      <td>nan</td>\n",
       "      <td>nan</td>\n",
       "      <td>nan</td>\n",
       "      <td>nan</td>\n",
       "      <td>2016</td>\n",
       "      <td>3</td>\n",
       "      <td>CATEG_01</td>\n",
       "      <td>242.00</td>\n",
       "      <td>10,521.67</td>\n",
       "    </tr>\n",
       "    <tr>\n",
       "      <th>3</th>\n",
       "      <td>1</td>\n",
       "      <td>4125506005002</td>\n",
       "      <td>4125506</td>\n",
       "      <td>NaN</td>\n",
       "      <td>FEATURE_02_VALUE_04</td>\n",
       "      <td>True</td>\n",
       "      <td>21.76</td>\n",
       "      <td>FEATURE_05_VALUE_04</td>\n",
       "      <td>31</td>\n",
       "      <td>0.17</td>\n",
       "      <td>0.17</td>\n",
       "      <td>115.96</td>\n",
       "      <td>2.35</td>\n",
       "      <td>NaN</td>\n",
       "      <td>NaN</td>\n",
       "      <td>nan</td>\n",
       "      <td>nan</td>\n",
       "      <td>nan</td>\n",
       "      <td>nan</td>\n",
       "      <td>nan</td>\n",
       "      <td>nan</td>\n",
       "      <td>2016</td>\n",
       "      <td>4</td>\n",
       "      <td>CATEG_01</td>\n",
       "      <td>104.00</td>\n",
       "      <td>4,560.91</td>\n",
       "    </tr>\n",
       "    <tr>\n",
       "      <th>4</th>\n",
       "      <td>1</td>\n",
       "      <td>4125506005002</td>\n",
       "      <td>4125506</td>\n",
       "      <td>NaN</td>\n",
       "      <td>FEATURE_02_VALUE_04</td>\n",
       "      <td>True</td>\n",
       "      <td>21.76</td>\n",
       "      <td>FEATURE_05_VALUE_04</td>\n",
       "      <td>31</td>\n",
       "      <td>0.17</td>\n",
       "      <td>0.17</td>\n",
       "      <td>115.96</td>\n",
       "      <td>2.35</td>\n",
       "      <td>NaN</td>\n",
       "      <td>NaN</td>\n",
       "      <td>nan</td>\n",
       "      <td>nan</td>\n",
       "      <td>nan</td>\n",
       "      <td>nan</td>\n",
       "      <td>nan</td>\n",
       "      <td>nan</td>\n",
       "      <td>2016</td>\n",
       "      <td>5</td>\n",
       "      <td>CATEG_01</td>\n",
       "      <td>100.00</td>\n",
       "      <td>4,263.30</td>\n",
       "    </tr>\n",
       "  </tbody>\n",
       "</table>\n",
       "</div>"
      ],
      "text/plain": [
       "   cod_loja         cod_ap  cod_municipio feature_01           feature_02  feature_03  feature_04           feature_05  feature_06  feature_07  feature_08  feature_09  feature_10 feature_11 feature_12  feature_13  feature_14  feature_15  feature_16  feature_17  feature_18   ano  mes categoria   qtde   receita\n",
       "0         1  4125506005002        4125506        NaN  FEATURE_02_VALUE_04        True       21.76  FEATURE_05_VALUE_04          31        0.17        0.17      115.96        2.35        NaN        NaN         nan         nan         nan         nan         nan         nan  2016    1  CATEG_01 301.00  9,164.86\n",
       "1         1  4125506005002        4125506        NaN  FEATURE_02_VALUE_04        True       21.76  FEATURE_05_VALUE_04          31        0.17        0.17      115.96        2.35        NaN        NaN         nan         nan         nan         nan         nan         nan  2016    2  CATEG_01 187.00  8,175.55\n",
       "2         1  4125506005002        4125506        NaN  FEATURE_02_VALUE_04        True       21.76  FEATURE_05_VALUE_04          31        0.17        0.17      115.96        2.35        NaN        NaN         nan         nan         nan         nan         nan         nan  2016    3  CATEG_01 242.00 10,521.67\n",
       "3         1  4125506005002        4125506        NaN  FEATURE_02_VALUE_04        True       21.76  FEATURE_05_VALUE_04          31        0.17        0.17      115.96        2.35        NaN        NaN         nan         nan         nan         nan         nan         nan  2016    4  CATEG_01 104.00  4,560.91\n",
       "4         1  4125506005002        4125506        NaN  FEATURE_02_VALUE_04        True       21.76  FEATURE_05_VALUE_04          31        0.17        0.17      115.96        2.35        NaN        NaN         nan         nan         nan         nan         nan         nan  2016    5  CATEG_01 100.00  4,263.30"
      ]
     },
     "execution_count": 4,
     "metadata": {},
     "output_type": "execute_result"
    }
   ],
   "source": [
    "df_expansao_raw = pd.read_csv(\"./data/raw/cenarios_expansao.csv\")\n",
    "df_faturamento_raw = pd.read_csv(\"./data/raw/faturamento_lojas_atuais.csv\")\n",
    "df_lojas_raw = pd.read_csv(\"./data/raw/lojas_atuais.csv\")\n",
    "\n",
    "# merge\n",
    "df_raw = pd.merge(df_lojas_raw, df_faturamento_raw, how = 'left', on = 'cod_loja')\n",
    "df_raw.head()"
   ]
  },
  {
   "cell_type": "markdown",
   "metadata": {},
   "source": [
    "# 2. Descrição dos Dados\n",
    "\n",
    "Esta seção incluirá os seguintes tópicos:\n",
    "\n",
    "* Dimensão dos Dados\n",
    "\n",
    "* Tipo dos Dados\n",
    "\n",
    "* Verificação de Dados faltantes\n",
    "\n",
    "* Estatística Descritiva\n",
    "\n",
    "* Tratamento de Dados faltantes"
   ]
  },
  {
   "cell_type": "code",
   "execution_count": 5,
   "metadata": {
    "ExecuteTime": {
     "end_time": "2020-11-11T21:47:38.647960Z",
     "start_time": "2020-11-11T21:47:38.572091Z"
    }
   },
   "outputs": [],
   "source": [
    "df1 = df_raw.copy()"
   ]
  },
  {
   "cell_type": "code",
   "execution_count": 6,
   "metadata": {
    "ExecuteTime": {
     "end_time": "2020-11-11T21:47:38.662842Z",
     "start_time": "2020-11-11T21:47:38.650874Z"
    }
   },
   "outputs": [
    {
     "data": {
      "text/plain": [
       "Index(['cod_loja', 'cod_ap', 'cod_municipio', 'feature_01', 'feature_02',\n",
       "       'feature_03', 'feature_04', 'feature_05', 'feature_06', 'feature_07',\n",
       "       'feature_08', 'feature_09', 'feature_10', 'feature_11', 'feature_12',\n",
       "       'feature_13', 'feature_14', 'feature_15', 'feature_16', 'feature_17',\n",
       "       'feature_18', 'ano', 'mes', 'categoria', 'qtde', 'receita'],\n",
       "      dtype='object')"
      ]
     },
     "execution_count": 6,
     "metadata": {},
     "output_type": "execute_result"
    }
   ],
   "source": [
    "df1.columns"
   ]
  },
  {
   "cell_type": "markdown",
   "metadata": {},
   "source": [
    "## 2.1. Dimensão dos Dados\n",
    "\n",
    "De forma a entender quão grande o _dataset_ de análise é, será analisada a dimensão do _dataframe_ em questão. Verifica-se que há **1003094** linhas e **26** colunas."
   ]
  },
  {
   "cell_type": "code",
   "execution_count": 7,
   "metadata": {
    "ExecuteTime": {
     "end_time": "2020-11-11T21:47:38.677802Z",
     "start_time": "2020-11-11T21:47:38.665864Z"
    }
   },
   "outputs": [
    {
     "name": "stdout",
     "output_type": "stream",
     "text": [
      "Número de linhas: 1003094\n",
      "Número de colunas: 26\n"
     ]
    }
   ],
   "source": [
    "print(\"Número de linhas: {}\".format(df1.shape[0]))\n",
    "print(\"Número de colunas: {}\".format(df1.shape[1]))"
   ]
  },
  {
   "cell_type": "markdown",
   "metadata": {},
   "source": [
    "## 2.2. Tipo dos Dados\n",
    "\n",
    "Em seguida, serão analisados os tipos de dados existentes no _dataset_, de modo a abordar cada um apropriadamente."
   ]
  },
  {
   "cell_type": "code",
   "execution_count": 8,
   "metadata": {
    "ExecuteTime": {
     "end_time": "2020-11-11T21:47:38.693760Z",
     "start_time": "2020-11-11T21:47:38.679797Z"
    }
   },
   "outputs": [
    {
     "data": {
      "text/plain": [
       "cod_loja           int64\n",
       "cod_ap             int64\n",
       "cod_municipio      int64\n",
       "feature_01        object\n",
       "feature_02        object\n",
       "feature_03          bool\n",
       "feature_04       float64\n",
       "feature_05        object\n",
       "feature_06         int64\n",
       "feature_07       float64\n",
       "feature_08       float64\n",
       "feature_09       float64\n",
       "feature_10       float64\n",
       "feature_11        object\n",
       "feature_12        object\n",
       "feature_13       float64\n",
       "feature_14       float64\n",
       "feature_15       float64\n",
       "feature_16       float64\n",
       "feature_17       float64\n",
       "feature_18       float64\n",
       "ano                int64\n",
       "mes                int64\n",
       "categoria         object\n",
       "qtde             float64\n",
       "receita          float64\n",
       "dtype: object"
      ]
     },
     "execution_count": 8,
     "metadata": {},
     "output_type": "execute_result"
    }
   ],
   "source": [
    "df1.dtypes"
   ]
  },
  {
   "cell_type": "markdown",
   "metadata": {},
   "source": [
    "## 2.3. Verificação dos Dados Faltantes\n",
    "\n",
    "É necessário verificar dados faltantes pelo fato de os algoritmos de _Machine Learning_ atuais não reconhecerem dados nulos. Assim, para um melhor desempenho do modelo, é essencial avaliá-los."
   ]
  },
  {
   "cell_type": "code",
   "execution_count": 9,
   "metadata": {
    "ExecuteTime": {
     "end_time": "2020-11-11T21:47:38.989059Z",
     "start_time": "2020-11-11T21:47:38.696750Z"
    }
   },
   "outputs": [
    {
     "data": {
      "text/plain": [
       "feature_11       922631\n",
       "feature_12       922631\n",
       "feature_15       714038\n",
       "feature_18       714038\n",
       "feature_17       714038\n",
       "feature_16       714038\n",
       "feature_14       714038\n",
       "feature_13       714038\n",
       "feature_01       635785\n",
       "feature_04            0\n",
       "feature_03            0\n",
       "feature_02            0\n",
       "receita               0\n",
       "feature_06            0\n",
       "cod_municipio         0\n",
       "cod_ap                0\n",
       "feature_05            0\n",
       "feature_10            0\n",
       "feature_07            0\n",
       "feature_08            0\n",
       "feature_09            0\n",
       "qtde                  0\n",
       "ano                   0\n",
       "mes                   0\n",
       "categoria             0\n",
       "cod_loja              0\n",
       "dtype: int64"
      ]
     },
     "execution_count": 9,
     "metadata": {},
     "output_type": "execute_result"
    }
   ],
   "source": [
    "df1.isna().sum().sort_values(ascending = False)"
   ]
  },
  {
   "cell_type": "markdown",
   "metadata": {},
   "source": [
    "## 2.4. Tratamento de Dados faltantes\n",
    "\n",
    "<font color='red'>???????????????????</font>\n",
    "\n",
    "<font color='red'>???????????????????</font>\n",
    "\n",
    "<font color='red'>POR ENQUANTO TO DROPANDO</font>\n",
    "\n",
    "<font color='red'>???????????????????</font>\n",
    "\n",
    "<font color='red'>???????????????????</font>"
   ]
  },
  {
   "cell_type": "code",
   "execution_count": 10,
   "metadata": {
    "ExecuteTime": {
     "end_time": "2020-11-11T21:47:39.282259Z",
     "start_time": "2020-11-11T21:47:38.991962Z"
    }
   },
   "outputs": [],
   "source": [
    "df1.drop(['feature_01', 'feature_11', 'feature_12', 'feature_13', 'feature_14', 'feature_15', 'feature_16', 'feature_17', 'feature_18'], \n",
    "         inplace = True, axis = 1)"
   ]
  },
  {
   "cell_type": "markdown",
   "metadata": {},
   "source": [
    "## 2.5. Estatística Descritiva\n",
    "\n",
    "Para realizar uma estatística descritiva, deve-se separar as variáveis númericas das categoricas, pois cada uma possuirá uma forma diferente de análise."
   ]
  },
  {
   "cell_type": "code",
   "execution_count": 11,
   "metadata": {
    "ExecuteTime": {
     "end_time": "2020-11-11T21:47:39.433005Z",
     "start_time": "2020-11-11T21:47:39.284180Z"
    }
   },
   "outputs": [],
   "source": [
    "num_attributes = df1.select_dtypes(include = ['int64', 'float64']).drop(['cod_loja', 'cod_ap', 'cod_municipio', 'ano', 'mes'], axis = 1)\n",
    "cat_attributes = df1.select_dtypes(exclude = ['int64', 'float64'])"
   ]
  },
  {
   "cell_type": "markdown",
   "metadata": {},
   "source": [
    "### 2.5.1. Variáveis Numéricas\n",
    "\n",
    "Para as variáveis numéricas, serão realizadas dois tipos de análise:\n",
    "\n",
    "* Tendência central\n",
    "    * Média\n",
    "    * Mediana\n",
    "    \n",
    "* Dispersão\n",
    "    * Desvio Padrão\n",
    "    * Mínimo\n",
    "    * Máximo\n",
    "    * Intervalo\n",
    "    * Assimetria\n",
    "    * Curtose"
   ]
  },
  {
   "cell_type": "code",
   "execution_count": 12,
   "metadata": {
    "ExecuteTime": {
     "end_time": "2020-11-11T21:47:40.384494Z",
     "start_time": "2020-11-11T21:47:39.435004Z"
    }
   },
   "outputs": [
    {
     "data": {
      "text/html": [
       "<div>\n",
       "<style scoped>\n",
       "    .dataframe tbody tr th:only-of-type {\n",
       "        vertical-align: middle;\n",
       "    }\n",
       "\n",
       "    .dataframe tbody tr th {\n",
       "        vertical-align: top;\n",
       "    }\n",
       "\n",
       "    .dataframe thead th {\n",
       "        text-align: right;\n",
       "    }\n",
       "</style>\n",
       "<table border=\"1\" class=\"dataframe\">\n",
       "  <thead>\n",
       "    <tr style=\"text-align: right;\">\n",
       "      <th></th>\n",
       "      <th>index</th>\n",
       "      <th>count</th>\n",
       "      <th>mean</th>\n",
       "      <th>std</th>\n",
       "      <th>min</th>\n",
       "      <th>25%</th>\n",
       "      <th>50%</th>\n",
       "      <th>75%</th>\n",
       "      <th>max</th>\n",
       "      <th>intervalo</th>\n",
       "      <th>assimetria</th>\n",
       "      <th>curtose</th>\n",
       "    </tr>\n",
       "  </thead>\n",
       "  <tbody>\n",
       "    <tr>\n",
       "      <th>0</th>\n",
       "      <td>feature_04</td>\n",
       "      <td>1,003,094.00</td>\n",
       "      <td>34.39</td>\n",
       "      <td>13.78</td>\n",
       "      <td>3.50</td>\n",
       "      <td>25.66</td>\n",
       "      <td>31.92</td>\n",
       "      <td>41.11</td>\n",
       "      <td>117.36</td>\n",
       "      <td>113.86</td>\n",
       "      <td>1.05</td>\n",
       "      <td>2.60</td>\n",
       "    </tr>\n",
       "    <tr>\n",
       "      <th>1</th>\n",
       "      <td>feature_06</td>\n",
       "      <td>1,003,094.00</td>\n",
       "      <td>5.75</td>\n",
       "      <td>4.95</td>\n",
       "      <td>0.00</td>\n",
       "      <td>3.00</td>\n",
       "      <td>4.00</td>\n",
       "      <td>7.00</td>\n",
       "      <td>63.00</td>\n",
       "      <td>63.00</td>\n",
       "      <td>3.80</td>\n",
       "      <td>24.55</td>\n",
       "    </tr>\n",
       "    <tr>\n",
       "      <th>2</th>\n",
       "      <td>feature_07</td>\n",
       "      <td>1,003,094.00</td>\n",
       "      <td>0.17</td>\n",
       "      <td>0.05</td>\n",
       "      <td>0.06</td>\n",
       "      <td>0.14</td>\n",
       "      <td>0.18</td>\n",
       "      <td>0.20</td>\n",
       "      <td>0.41</td>\n",
       "      <td>0.35</td>\n",
       "      <td>0.50</td>\n",
       "      <td>0.97</td>\n",
       "    </tr>\n",
       "    <tr>\n",
       "      <th>3</th>\n",
       "      <td>feature_08</td>\n",
       "      <td>1,003,094.00</td>\n",
       "      <td>0.17</td>\n",
       "      <td>0.05</td>\n",
       "      <td>0.04</td>\n",
       "      <td>0.13</td>\n",
       "      <td>0.17</td>\n",
       "      <td>0.19</td>\n",
       "      <td>0.39</td>\n",
       "      <td>0.35</td>\n",
       "      <td>0.33</td>\n",
       "      <td>0.70</td>\n",
       "    </tr>\n",
       "    <tr>\n",
       "      <th>4</th>\n",
       "      <td>feature_09</td>\n",
       "      <td>1,003,094.00</td>\n",
       "      <td>602.74</td>\n",
       "      <td>1,383.63</td>\n",
       "      <td>1.44</td>\n",
       "      <td>11.82</td>\n",
       "      <td>56.55</td>\n",
       "      <td>334.70</td>\n",
       "      <td>5,593.91</td>\n",
       "      <td>5,592.47</td>\n",
       "      <td>2.95</td>\n",
       "      <td>7.56</td>\n",
       "    </tr>\n",
       "    <tr>\n",
       "      <th>5</th>\n",
       "      <td>feature_10</td>\n",
       "      <td>1,003,094.00</td>\n",
       "      <td>3.92</td>\n",
       "      <td>2.64</td>\n",
       "      <td>0.42</td>\n",
       "      <td>2.40</td>\n",
       "      <td>3.16</td>\n",
       "      <td>4.46</td>\n",
       "      <td>31.80</td>\n",
       "      <td>31.38</td>\n",
       "      <td>3.29</td>\n",
       "      <td>19.35</td>\n",
       "    </tr>\n",
       "    <tr>\n",
       "      <th>6</th>\n",
       "      <td>qtde</td>\n",
       "      <td>1,003,094.00</td>\n",
       "      <td>204.39</td>\n",
       "      <td>348.23</td>\n",
       "      <td>0.00</td>\n",
       "      <td>20.00</td>\n",
       "      <td>77.00</td>\n",
       "      <td>249.00</td>\n",
       "      <td>12,160.00</td>\n",
       "      <td>12,160.00</td>\n",
       "      <td>5.00</td>\n",
       "      <td>47.52</td>\n",
       "    </tr>\n",
       "    <tr>\n",
       "      <th>7</th>\n",
       "      <td>receita</td>\n",
       "      <td>1,003,094.00</td>\n",
       "      <td>9,334.46</td>\n",
       "      <td>23,670.26</td>\n",
       "      <td>0.00</td>\n",
       "      <td>600.54</td>\n",
       "      <td>2,252.82</td>\n",
       "      <td>7,675.57</td>\n",
       "      <td>975,106.40</td>\n",
       "      <td>975,106.40</td>\n",
       "      <td>7.50</td>\n",
       "      <td>94.52</td>\n",
       "    </tr>\n",
       "  </tbody>\n",
       "</table>\n",
       "</div>"
      ],
      "text/plain": [
       "        index        count     mean       std  min    25%      50%      75%        max  intervalo  assimetria  curtose\n",
       "0  feature_04 1,003,094.00    34.39     13.78 3.50  25.66    31.92    41.11     117.36     113.86        1.05     2.60\n",
       "1  feature_06 1,003,094.00     5.75      4.95 0.00   3.00     4.00     7.00      63.00      63.00        3.80    24.55\n",
       "2  feature_07 1,003,094.00     0.17      0.05 0.06   0.14     0.18     0.20       0.41       0.35        0.50     0.97\n",
       "3  feature_08 1,003,094.00     0.17      0.05 0.04   0.13     0.17     0.19       0.39       0.35        0.33     0.70\n",
       "4  feature_09 1,003,094.00   602.74  1,383.63 1.44  11.82    56.55   334.70   5,593.91   5,592.47        2.95     7.56\n",
       "5  feature_10 1,003,094.00     3.92      2.64 0.42   2.40     3.16     4.46      31.80      31.38        3.29    19.35\n",
       "6        qtde 1,003,094.00   204.39    348.23 0.00  20.00    77.00   249.00  12,160.00  12,160.00        5.00    47.52\n",
       "7     receita 1,003,094.00 9,334.46 23,670.26 0.00 600.54 2,252.82 7,675.57 975,106.40 975,106.40        7.50    94.52"
      ]
     },
     "execution_count": 12,
     "metadata": {},
     "output_type": "execute_result"
    }
   ],
   "source": [
    "d1 = num_attributes.describe()\n",
    "d2 = pd.DataFrame({\"intervalo\" : num_attributes.apply(lambda x: x.max() - x.min())}).T\n",
    "d3 = pd.DataFrame({\"assimetria\" : num_attributes.apply(lambda x: x.skew())}).T\n",
    "d4 = pd.DataFrame({\"curtose\" : num_attributes.apply(lambda x: x.kurtosis())}).T\n",
    "\n",
    "m = pd.concat([d1, d2, d3, d4]).T.reset_index()\n",
    "m"
   ]
  },
  {
   "cell_type": "markdown",
   "metadata": {},
   "source": [
    "Observando os dados estatísticos de \"receita\", tem-se:\n",
    "\n",
    "* Média = 9334,46; indica a média mensal de receita de todas lojas e todas categorias de produto\n",
    "* Desvio Padrão (std) = 23670,26; este valor de desvio padrão diz que há valores negativos de receita, considerando a média acima, o que não faz sentido. Em análises bivariadas este parâmetro será mais explorado\n",
    "* Mínimo (min) = 0; indica que, em determinado mês, alguma categoria de produto não vendeu nenhuma unidade \n",
    "* Máximo (max) = 975106,4\n",
    "* Assimetria = 7,5; indica que os valores de receita possuem uma \"cauda\" mais longa do lado direito da ordenada, ou, em outras palavras, que os dados estão concentrados mais a esquerda quando comparados com uma distribuição normal\n",
    "* Curtose = 94,52; indica o \"achatamento\" da curva, ou seja, a curva de receita é concentrada predominantemente em uma região"
   ]
  },
  {
   "cell_type": "markdown",
   "metadata": {},
   "source": [
    "### 2.5.2. Atributos categóricos\n",
    "\n",
    "Para a análise de atributos categóricos, são utilizados _boxplots_, de modo a analisar visualmente a dispersão, posição, simetria e outliers do _dataset_ em relação a receita.\n",
    "\n",
    "É possível interpretar alguns resultados, como a CATEG_11, que é a categoria de produtos que possui uma maior receita quando comparado com os outros tipos de produto."
   ]
  },
  {
   "cell_type": "code",
   "execution_count": 13,
   "metadata": {
    "ExecuteTime": {
     "end_time": "2020-11-11T21:48:48.248976Z",
     "start_time": "2020-11-11T21:47:40.386458Z"
    }
   },
   "outputs": [
    {
     "data": {
      "image/png": "[encoded data removed]",
      "text/plain": [
       "<Figure size 1800x2160 with 4 Axes>"
      ]
     },
     "metadata": {},
     "output_type": "display_data"
    }
   ],
   "source": [
    "plt.subplot(4,1,1)\n",
    "_ = sns.violinplot(x = 'feature_02', y = 'receita', data = df1)\n",
    "\n",
    "plt.subplot(4,1,2)\n",
    "_ = sns.violinplot(x = 'feature_03', y = 'receita', data = df1)\n",
    "\n",
    "plt.subplot(4,1,3)\n",
    "_ = sns.violinplot(x = 'feature_05', y = 'receita', data = df1)\n",
    "_ = plt.xticks(rotation = 10)\n",
    "\n",
    "plt.subplot(4,1,4)\n",
    "_ = sns.violinplot(x = 'categoria', y = 'receita', data = df1)\n",
    "_ = plt.xticks(rotation = 45)"
   ]
  },
  {
   "cell_type": "markdown",
   "metadata": {
    "ExecuteTime": {
     "end_time": "2020-11-11T19:13:34.493410Z",
     "start_time": "2020-11-11T19:13:34.474462Z"
    }
   },
   "source": [
    "# 3. Feature Engineering"
   ]
  },
  {
   "cell_type": "code",
   "execution_count": 14,
   "metadata": {
    "ExecuteTime": {
     "end_time": "2020-11-11T21:48:48.308987Z",
     "start_time": "2020-11-11T21:48:48.250967Z"
    }
   },
   "outputs": [],
   "source": [
    "df2 = df1.copy()"
   ]
  },
  {
   "cell_type": "markdown",
   "metadata": {},
   "source": [
    "Pelo fato de as _features_ não temporais não serem explicitadas claramente, o processo de _feature engineering_ será baseado unicamente nas variáveis temporais. Criam-se as seguintes varíaveis:\n",
    "\n",
    "* offset_data - delta de meses após o primeiro registrado\n",
    "* estado - estado em que se encontra a loja, retirado a partir dos códigos de ponderação e de município \n",
    "\n",
    "O código do estado é representado pelos 2 primeiros números de cada código de município. Assim, a partir da tabela a seguir, retirada do próprio IBGE, é possível identificar e classificar o estado de cada região:\n",
    "\n",
    "**Região Norte**\n",
    "\n",
    "| Código IBGE |   Estado  | Sigla |\n",
    "|:-----------:|:---------:|:-----:|\n",
    "|      11     |  Rondônia |   RO  |\n",
    "|      12     |    Acre   |   AC  |\n",
    "|      13     |  Amazonas |   AM  |\n",
    "|      14     |  Roraima  |   RR  |\n",
    "|      15     |    Pará   |   PA  |\n",
    "|      16     |   Amapá   |   AP  |\n",
    "|      17     | Tocantins |   TO  |\n",
    "\n",
    "**Região Nordeste**\n",
    "\n",
    "| Código IBGE |        Estado       | Sigla |\n",
    "|:-----------:|:-------------------:|:-----:|\n",
    "|      21     |       Maranhão      |   MA  |\n",
    "|      22     |        Piauí        |   PI  |\n",
    "|      23     |        Ceará        |   CE  |\n",
    "|      24     | Rio Grande do Norte |   RN  |\n",
    "|      25     |       Paraíba       |   PB  |\n",
    "|      26     |      Pernambuco     |   PE  |\n",
    "|      27     |       Alagoas       |   AL  |\n",
    "|      28     |       Sergipe       |   SE  |\n",
    "|      29     |        Bahia        |   BA  |\n",
    "\n",
    "**Região Sudeste**\n",
    "\n",
    "| Código IBGE |     Estado     | Sigla |\n",
    "|:-----------:|:--------------:|:-----:|\n",
    "|      31     |  Minas Gerais  |   MG  |\n",
    "|      32     | Espírito Santo |   ES  |\n",
    "|      33     | Rio de Janeiro |   RJ  |\n",
    "|      35     |    São Paulo   |   SP  |\n",
    "\n",
    "**Região Sul**\n",
    "\n",
    "| Código IBGE |       Estado      | Sigla |\n",
    "|:-----------:|:-----------------:|:-----:|\n",
    "|      41     |       Paraná      |   PR  |\n",
    "|      42     |   Santa Catarina  |   SC  |\n",
    "|      43     | Rio Grande do Sul |   RS  |\n",
    "\n",
    "**Região Centro-Oeste**\n",
    "\n",
    "| Código IBGE |       Estado       | Sigla |\n",
    "|:-----------:|:------------------:|:-----:|\n",
    "|      50     | Mato Grosso do Sul |   MS  |\n",
    "|      51     |     Mato Grosso    |   MT  |\n",
    "|      52     |        Goiás       |   GO  |\n",
    "|      53     |  Distrito Federal  |   DF  |\n",
    "\n",
    "<font color='red'>O QUE FAZER COM OS CÓDIGOS -1</font>"
   ]
  },
  {
   "cell_type": "code",
   "execution_count": 15,
   "metadata": {
    "ExecuteTime": {
     "end_time": "2020-11-11T21:48:49.490803Z",
     "start_time": "2020-11-11T21:48:48.311899Z"
    }
   },
   "outputs": [
    {
     "data": {
      "text/plain": [
       "array(['41', '53', '35', '31', '16', '11', '27', '29', '26', '25', '33',\n",
       "       '32', '14', '43', '22', '23', '52', '51', '50', '17', '42', '13',\n",
       "       '28', '-1', '15', '24', '12', '21'], dtype=object)"
      ]
     },
     "execution_count": 15,
     "metadata": {},
     "output_type": "execute_result"
    }
   ],
   "source": [
    "# verificando estados únicos\n",
    "cod_estado = df2['cod_municipio'].astype('str').str[:2]\n",
    "cod_estado.unique()"
   ]
  },
  {
   "cell_type": "code",
   "execution_count": 16,
   "metadata": {
    "ExecuteTime": {
     "end_time": "2020-11-11T21:48:49.521691Z",
     "start_time": "2020-11-11T21:48:49.492739Z"
    }
   },
   "outputs": [
    {
     "data": {
      "text/plain": [
       "0.04777219283536737"
      ]
     },
     "execution_count": 16,
     "metadata": {},
     "output_type": "execute_result"
    }
   ],
   "source": [
    "# PROBLEMA AQUI\n",
    "len(df2[df2['cod_municipio'] == -1])/len(df2)"
   ]
  },
  {
   "cell_type": "code",
   "execution_count": 17,
   "metadata": {
    "ExecuteTime": {
     "end_time": "2020-11-11T21:51:50.426387Z",
     "start_time": "2020-11-11T21:48:49.523658Z"
    }
   },
   "outputs": [
    {
     "name": "stderr",
     "output_type": "stream",
     "text": [
      "100%|██████████████████████████████████████████████████████████████████████| 1003094/1003094 [02:57<00:00, 5648.11it/s]\n"
     ]
    },
    {
     "data": {
      "text/html": [
       "<div>\n",
       "<style scoped>\n",
       "    .dataframe tbody tr th:only-of-type {\n",
       "        vertical-align: middle;\n",
       "    }\n",
       "\n",
       "    .dataframe tbody tr th {\n",
       "        vertical-align: top;\n",
       "    }\n",
       "\n",
       "    .dataframe thead th {\n",
       "        text-align: right;\n",
       "    }\n",
       "</style>\n",
       "<table border=\"1\" class=\"dataframe\">\n",
       "  <thead>\n",
       "    <tr style=\"text-align: right;\">\n",
       "      <th></th>\n",
       "      <th>cod_loja</th>\n",
       "      <th>cod_ap</th>\n",
       "      <th>cod_municipio</th>\n",
       "      <th>feature_02</th>\n",
       "      <th>feature_03</th>\n",
       "      <th>feature_04</th>\n",
       "      <th>feature_05</th>\n",
       "      <th>feature_06</th>\n",
       "      <th>feature_07</th>\n",
       "      <th>feature_08</th>\n",
       "      <th>feature_09</th>\n",
       "      <th>feature_10</th>\n",
       "      <th>ano</th>\n",
       "      <th>mes</th>\n",
       "      <th>categoria</th>\n",
       "      <th>qtde</th>\n",
       "      <th>receita</th>\n",
       "      <th>offset_date</th>\n",
       "      <th>estado</th>\n",
       "    </tr>\n",
       "  </thead>\n",
       "  <tbody>\n",
       "    <tr>\n",
       "      <th>0</th>\n",
       "      <td>1</td>\n",
       "      <td>4125506005002</td>\n",
       "      <td>4125506</td>\n",
       "      <td>FEATURE_02_VALUE_04</td>\n",
       "      <td>True</td>\n",
       "      <td>21.76</td>\n",
       "      <td>FEATURE_05_VALUE_04</td>\n",
       "      <td>31</td>\n",
       "      <td>0.17</td>\n",
       "      <td>0.17</td>\n",
       "      <td>115.96</td>\n",
       "      <td>2.35</td>\n",
       "      <td>2016</td>\n",
       "      <td>1</td>\n",
       "      <td>CATEG_01</td>\n",
       "      <td>301.00</td>\n",
       "      <td>9,164.86</td>\n",
       "      <td>0</td>\n",
       "      <td>PR</td>\n",
       "    </tr>\n",
       "    <tr>\n",
       "      <th>1</th>\n",
       "      <td>1</td>\n",
       "      <td>4125506005002</td>\n",
       "      <td>4125506</td>\n",
       "      <td>FEATURE_02_VALUE_04</td>\n",
       "      <td>True</td>\n",
       "      <td>21.76</td>\n",
       "      <td>FEATURE_05_VALUE_04</td>\n",
       "      <td>31</td>\n",
       "      <td>0.17</td>\n",
       "      <td>0.17</td>\n",
       "      <td>115.96</td>\n",
       "      <td>2.35</td>\n",
       "      <td>2016</td>\n",
       "      <td>2</td>\n",
       "      <td>CATEG_01</td>\n",
       "      <td>187.00</td>\n",
       "      <td>8,175.55</td>\n",
       "      <td>1</td>\n",
       "      <td>PR</td>\n",
       "    </tr>\n",
       "    <tr>\n",
       "      <th>2</th>\n",
       "      <td>1</td>\n",
       "      <td>4125506005002</td>\n",
       "      <td>4125506</td>\n",
       "      <td>FEATURE_02_VALUE_04</td>\n",
       "      <td>True</td>\n",
       "      <td>21.76</td>\n",
       "      <td>FEATURE_05_VALUE_04</td>\n",
       "      <td>31</td>\n",
       "      <td>0.17</td>\n",
       "      <td>0.17</td>\n",
       "      <td>115.96</td>\n",
       "      <td>2.35</td>\n",
       "      <td>2016</td>\n",
       "      <td>3</td>\n",
       "      <td>CATEG_01</td>\n",
       "      <td>242.00</td>\n",
       "      <td>10,521.67</td>\n",
       "      <td>2</td>\n",
       "      <td>PR</td>\n",
       "    </tr>\n",
       "    <tr>\n",
       "      <th>3</th>\n",
       "      <td>1</td>\n",
       "      <td>4125506005002</td>\n",
       "      <td>4125506</td>\n",
       "      <td>FEATURE_02_VALUE_04</td>\n",
       "      <td>True</td>\n",
       "      <td>21.76</td>\n",
       "      <td>FEATURE_05_VALUE_04</td>\n",
       "      <td>31</td>\n",
       "      <td>0.17</td>\n",
       "      <td>0.17</td>\n",
       "      <td>115.96</td>\n",
       "      <td>2.35</td>\n",
       "      <td>2016</td>\n",
       "      <td>4</td>\n",
       "      <td>CATEG_01</td>\n",
       "      <td>104.00</td>\n",
       "      <td>4,560.91</td>\n",
       "      <td>3</td>\n",
       "      <td>PR</td>\n",
       "    </tr>\n",
       "    <tr>\n",
       "      <th>4</th>\n",
       "      <td>1</td>\n",
       "      <td>4125506005002</td>\n",
       "      <td>4125506</td>\n",
       "      <td>FEATURE_02_VALUE_04</td>\n",
       "      <td>True</td>\n",
       "      <td>21.76</td>\n",
       "      <td>FEATURE_05_VALUE_04</td>\n",
       "      <td>31</td>\n",
       "      <td>0.17</td>\n",
       "      <td>0.17</td>\n",
       "      <td>115.96</td>\n",
       "      <td>2.35</td>\n",
       "      <td>2016</td>\n",
       "      <td>5</td>\n",
       "      <td>CATEG_01</td>\n",
       "      <td>100.00</td>\n",
       "      <td>4,263.30</td>\n",
       "      <td>4</td>\n",
       "      <td>PR</td>\n",
       "    </tr>\n",
       "  </tbody>\n",
       "</table>\n",
       "</div>"
      ],
      "text/plain": [
       "   cod_loja         cod_ap  cod_municipio           feature_02  feature_03  feature_04           feature_05  feature_06  feature_07  feature_08  feature_09  feature_10   ano  mes categoria   qtde   receita  offset_date estado\n",
       "0         1  4125506005002        4125506  FEATURE_02_VALUE_04        True       21.76  FEATURE_05_VALUE_04          31        0.17        0.17      115.96        2.35  2016    1  CATEG_01 301.00  9,164.86            0     PR\n",
       "1         1  4125506005002        4125506  FEATURE_02_VALUE_04        True       21.76  FEATURE_05_VALUE_04          31        0.17        0.17      115.96        2.35  2016    2  CATEG_01 187.00  8,175.55            1     PR\n",
       "2         1  4125506005002        4125506  FEATURE_02_VALUE_04        True       21.76  FEATURE_05_VALUE_04          31        0.17        0.17      115.96        2.35  2016    3  CATEG_01 242.00 10,521.67            2     PR\n",
       "3         1  4125506005002        4125506  FEATURE_02_VALUE_04        True       21.76  FEATURE_05_VALUE_04          31        0.17        0.17      115.96        2.35  2016    4  CATEG_01 104.00  4,560.91            3     PR\n",
       "4         1  4125506005002        4125506  FEATURE_02_VALUE_04        True       21.76  FEATURE_05_VALUE_04          31        0.17        0.17      115.96        2.35  2016    5  CATEG_01 100.00  4,263.30            4     PR"
      ]
     },
     "execution_count": 17,
     "metadata": {},
     "output_type": "execute_result"
    }
   ],
   "source": [
    "# offset_date\n",
    "df2['offset_date'] = get_offset_date(df2)\n",
    "\n",
    "# estado\n",
    "cod_estado = df2['cod_municipio'].astype('str').str[:2]\n",
    "cod_estado = cod_estado.replace({'11' : 'RO', '12' : 'AC', '13' : 'AM', '14' : 'RR', '15' : 'PA',\n",
    "                                 '16' : 'AP', '17' : 'TO', '21' : 'MA', '22' : 'PI', '23' : 'CE',\n",
    "                                 '24' : 'RN', '25' : 'PB', '26' : 'PE', '27' : 'AL', '28' : 'SE',\n",
    "                                 '29' : 'BA', '31' : 'MG', '32' : 'ES', '33' : 'RJ', '35' : 'SP',\n",
    "                                 '41' : 'PR', '42' : 'SC', '43' : 'RS', '50' : 'MS', '51' : 'MT',\n",
    "                                 '52' : 'GO', '53' : 'DF'})\n",
    "df2['estado'] =  cod_estado\n",
    "\n",
    "df2.head()"
   ]
  },
  {
   "cell_type": "code",
   "execution_count": 18,
   "metadata": {
    "ExecuteTime": {
     "end_time": "2020-11-11T21:51:50.640934Z",
     "start_time": "2020-11-11T21:51:50.429353Z"
    }
   },
   "outputs": [
    {
     "data": {
      "text/html": [
       "<div>\n",
       "<style scoped>\n",
       "    .dataframe tbody tr th:only-of-type {\n",
       "        vertical-align: middle;\n",
       "    }\n",
       "\n",
       "    .dataframe tbody tr th {\n",
       "        vertical-align: top;\n",
       "    }\n",
       "\n",
       "    .dataframe thead th {\n",
       "        text-align: right;\n",
       "    }\n",
       "</style>\n",
       "<table border=\"1\" class=\"dataframe\">\n",
       "  <thead>\n",
       "    <tr style=\"text-align: right;\">\n",
       "      <th></th>\n",
       "      <th>cod_loja</th>\n",
       "      <th>feature_02</th>\n",
       "      <th>feature_03</th>\n",
       "      <th>feature_04</th>\n",
       "      <th>feature_05</th>\n",
       "      <th>feature_06</th>\n",
       "      <th>feature_07</th>\n",
       "      <th>feature_08</th>\n",
       "      <th>feature_09</th>\n",
       "      <th>feature_10</th>\n",
       "      <th>ano</th>\n",
       "      <th>mes</th>\n",
       "      <th>categoria</th>\n",
       "      <th>qtde</th>\n",
       "      <th>receita</th>\n",
       "      <th>offset_date</th>\n",
       "      <th>estado</th>\n",
       "    </tr>\n",
       "  </thead>\n",
       "  <tbody>\n",
       "    <tr>\n",
       "      <th>0</th>\n",
       "      <td>1</td>\n",
       "      <td>FEATURE_02_VALUE_04</td>\n",
       "      <td>True</td>\n",
       "      <td>21.76</td>\n",
       "      <td>FEATURE_05_VALUE_04</td>\n",
       "      <td>31</td>\n",
       "      <td>0.17</td>\n",
       "      <td>0.17</td>\n",
       "      <td>115.96</td>\n",
       "      <td>2.35</td>\n",
       "      <td>2016</td>\n",
       "      <td>1</td>\n",
       "      <td>CATEG_01</td>\n",
       "      <td>301.00</td>\n",
       "      <td>9,164.86</td>\n",
       "      <td>0</td>\n",
       "      <td>PR</td>\n",
       "    </tr>\n",
       "    <tr>\n",
       "      <th>1</th>\n",
       "      <td>1</td>\n",
       "      <td>FEATURE_02_VALUE_04</td>\n",
       "      <td>True</td>\n",
       "      <td>21.76</td>\n",
       "      <td>FEATURE_05_VALUE_04</td>\n",
       "      <td>31</td>\n",
       "      <td>0.17</td>\n",
       "      <td>0.17</td>\n",
       "      <td>115.96</td>\n",
       "      <td>2.35</td>\n",
       "      <td>2016</td>\n",
       "      <td>2</td>\n",
       "      <td>CATEG_01</td>\n",
       "      <td>187.00</td>\n",
       "      <td>8,175.55</td>\n",
       "      <td>1</td>\n",
       "      <td>PR</td>\n",
       "    </tr>\n",
       "    <tr>\n",
       "      <th>2</th>\n",
       "      <td>1</td>\n",
       "      <td>FEATURE_02_VALUE_04</td>\n",
       "      <td>True</td>\n",
       "      <td>21.76</td>\n",
       "      <td>FEATURE_05_VALUE_04</td>\n",
       "      <td>31</td>\n",
       "      <td>0.17</td>\n",
       "      <td>0.17</td>\n",
       "      <td>115.96</td>\n",
       "      <td>2.35</td>\n",
       "      <td>2016</td>\n",
       "      <td>3</td>\n",
       "      <td>CATEG_01</td>\n",
       "      <td>242.00</td>\n",
       "      <td>10,521.67</td>\n",
       "      <td>2</td>\n",
       "      <td>PR</td>\n",
       "    </tr>\n",
       "    <tr>\n",
       "      <th>3</th>\n",
       "      <td>1</td>\n",
       "      <td>FEATURE_02_VALUE_04</td>\n",
       "      <td>True</td>\n",
       "      <td>21.76</td>\n",
       "      <td>FEATURE_05_VALUE_04</td>\n",
       "      <td>31</td>\n",
       "      <td>0.17</td>\n",
       "      <td>0.17</td>\n",
       "      <td>115.96</td>\n",
       "      <td>2.35</td>\n",
       "      <td>2016</td>\n",
       "      <td>4</td>\n",
       "      <td>CATEG_01</td>\n",
       "      <td>104.00</td>\n",
       "      <td>4,560.91</td>\n",
       "      <td>3</td>\n",
       "      <td>PR</td>\n",
       "    </tr>\n",
       "    <tr>\n",
       "      <th>4</th>\n",
       "      <td>1</td>\n",
       "      <td>FEATURE_02_VALUE_04</td>\n",
       "      <td>True</td>\n",
       "      <td>21.76</td>\n",
       "      <td>FEATURE_05_VALUE_04</td>\n",
       "      <td>31</td>\n",
       "      <td>0.17</td>\n",
       "      <td>0.17</td>\n",
       "      <td>115.96</td>\n",
       "      <td>2.35</td>\n",
       "      <td>2016</td>\n",
       "      <td>5</td>\n",
       "      <td>CATEG_01</td>\n",
       "      <td>100.00</td>\n",
       "      <td>4,263.30</td>\n",
       "      <td>4</td>\n",
       "      <td>PR</td>\n",
       "    </tr>\n",
       "  </tbody>\n",
       "</table>\n",
       "</div>"
      ],
      "text/plain": [
       "   cod_loja           feature_02  feature_03  feature_04           feature_05  feature_06  feature_07  feature_08  feature_09  feature_10   ano  mes categoria   qtde   receita  offset_date estado\n",
       "0         1  FEATURE_02_VALUE_04        True       21.76  FEATURE_05_VALUE_04          31        0.17        0.17      115.96        2.35  2016    1  CATEG_01 301.00  9,164.86            0     PR\n",
       "1         1  FEATURE_02_VALUE_04        True       21.76  FEATURE_05_VALUE_04          31        0.17        0.17      115.96        2.35  2016    2  CATEG_01 187.00  8,175.55            1     PR\n",
       "2         1  FEATURE_02_VALUE_04        True       21.76  FEATURE_05_VALUE_04          31        0.17        0.17      115.96        2.35  2016    3  CATEG_01 242.00 10,521.67            2     PR\n",
       "3         1  FEATURE_02_VALUE_04        True       21.76  FEATURE_05_VALUE_04          31        0.17        0.17      115.96        2.35  2016    4  CATEG_01 104.00  4,560.91            3     PR\n",
       "4         1  FEATURE_02_VALUE_04        True       21.76  FEATURE_05_VALUE_04          31        0.17        0.17      115.96        2.35  2016    5  CATEG_01 100.00  4,263.30            4     PR"
      ]
     },
     "execution_count": 18,
     "metadata": {},
     "output_type": "execute_result"
    }
   ],
   "source": [
    "# drop dos códigos de área\n",
    "df2.drop(['cod_municipio', 'cod_ap'], axis = 1, inplace = True)\n",
    "df2.head()"
   ]
  },
  {
   "cell_type": "markdown",
   "metadata": {},
   "source": [
    "# 4. Análise de Dados Exploratória"
   ]
  },
  {
   "cell_type": "code",
   "execution_count": null,
   "metadata": {},
   "outputs": [],
   "source": []
  }
 ],
 "metadata": {
  "kernelspec": {
   "display_name": "Python 3",
   "language": "python",
   "name": "python3"
  },
  "language_info": {
   "codemirror_mode": {
    "name": "ipython",
    "version": 3
   },
   "file_extension": ".py",
   "mimetype": "text/x-python",
   "name": "python",
   "nbconvert_exporter": "python",
   "pygments_lexer": "ipython3",
   "version": "3.8.5"
  }
 },
 "nbformat": 4,
 "nbformat_minor": 4
}
