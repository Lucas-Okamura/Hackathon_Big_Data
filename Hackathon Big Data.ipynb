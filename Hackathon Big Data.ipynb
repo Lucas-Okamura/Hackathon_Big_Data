{
 "cells": [
  {
   "cell_type": "markdown",
   "metadata": {},
   "source": [
    "# Hackathon Big Data\n",
    "\n",
    "O primeiro desafio consiste em um cenário de previsão, onde o objetivo será prever o faturamento de cada uma das franquias de uma rede de lojas, onde as franquias estão espalhadas em todo o Brasil.\n",
    "\n",
    "O segundo desafio consiste em um cenário de expansão, onde o objetivo será prever o faturamento que uma loja teria caso ela existisse em uma região que a franquia ainda não atua.\n",
    "\n",
    "Este tipo de problema é muito importante para uma rede de franquias existente. A previsão do faturamento é importante para que a franquia possa ter uma estimativa da quantia que ela terá disponível para realizar investimentos e expansão das lojas. A previsão do faturamento em regiões que a loja não atua é importante para que a franquia possa realizar uma expansão mirando as regiões em que ela teria o maior faturamento possível.\n",
    "\n",
    "# Desafio\n",
    "\n",
    "**1. Prever o faturamento de lojas existentes na base de dados**\n",
    "\n",
    "* Neste desafio as equipes deverão prever a média do faturamento mensal dos primeiros três meses de 2018 de cada loja presente na base de dados disponibilizada.\n",
    "\n",
    "**2. Projetar o faturamento de novas lojas**\n",
    "\n",
    "* Neste desafio as equipes deverão prever a média do faturamento mensal dos primeiros três meses de 2018 caso a loja existisse em uma região especificada.\n",
    "\n",
    "O _notebook_ a seguir é estruturado da seguinte forma:\n",
    "\n",
    "* 1. Imports\n",
    "* 2. Descrição dos Dados\n",
    "* 3. Feature Engineering\n",
    "* 4. Análise de Dados Exploratória\n",
    "* 5. Preparação dos dados\n",
    "* 6. Seleção de _Features_\n",
    "* 7. Modelagem de _Machine Learning_\n",
    "* 8. Aprimoramento de _Hyperparameters_\n",
    "* 9. Interpretação dos Resultados"
   ]
  },
  {
   "cell_type": "markdown",
   "metadata": {},
   "source": [
    "# 1. Coleta de dados\n",
    "\n",
    "## 1.1. Imports"
   ]
  },
  {
   "cell_type": "code",
   "execution_count": 66,
   "metadata": {
    "ExecuteTime": {
     "end_time": "2020-11-10T21:57:36.767529Z",
     "start_time": "2020-11-10T21:57:36.753537Z"
    },
    "scrolled": false
   },
   "outputs": [],
   "source": [
    "import pandas as pd\n",
    "import numpy as np\n",
    "import seaborn as sns\n",
    "import matplotlib.pyplot as plt\n",
    "import datetime\n",
    "import pickle\n",
    "import requests"
   ]
  },
  {
   "cell_type": "markdown",
   "metadata": {},
   "source": [
    "## 1.2. Funções Auxiliares"
   ]
  },
  {
   "cell_type": "code",
   "execution_count": 104,
   "metadata": {
    "ExecuteTime": {
     "end_time": "2020-11-10T22:18:42.868984Z",
     "start_time": "2020-11-10T22:18:42.856983Z"
    }
   },
   "outputs": [],
   "source": [
    "def jupyter_settings():\n",
    "    %matplotlib inline\n",
    "    %pylab inline\n",
    "    \n",
    "    plt.style.use( 'bmh' )\n",
    "    plt.rcParams['figure.figsize'] = [25, 30]\n",
    "    plt.rcParams['font.size'] = 20\n",
    "    plt.rcParams[\"axes.labelsize\"] = 30\n",
    "    \n",
    "    pd.options.display.max_columns = None\n",
    "    pd.options.display.max_rows = None\n",
    "    pd.set_option( 'display.expand_frame_repr', False )\n",
    "    pd.options.display.float_format = '{:,.2f}'.format\n",
    "    \n",
    "    sns.set(font_scale = 1.5)"
   ]
  },
  {
   "cell_type": "code",
   "execution_count": 105,
   "metadata": {
    "ExecuteTime": {
     "end_time": "2020-11-10T22:18:43.023001Z",
     "start_time": "2020-11-10T22:18:43.007043Z"
    }
   },
   "outputs": [
    {
     "name": "stdout",
     "output_type": "stream",
     "text": [
      "Populating the interactive namespace from numpy and matplotlib\n"
     ]
    }
   ],
   "source": [
    "jupyter_settings()"
   ]
  },
  {
   "cell_type": "markdown",
   "metadata": {},
   "source": [
    "## 1.3. Carregando dados\n",
    "\n",
    "São fornecidos 3 arquivos csv, sendo que o objetivo do problema é predizer a coluna \"receita\" para o dataset de teste.\n",
    "\n",
    "* **Arquivos**\n",
    "\n",
    "    * faturamento_lojas_atuais.csv: Faturamento mensal das lojas, contendo informações dos anos de 2016 e 2017\n",
    "\n",
    "    * lojas_atuais.csv: Não iremos disponibilizar uma descrição das variáveis presentes neste arquivo. Elas representam as características das lojas, como a metragem, número de cadeiras, número de funcionários, etc. Este arquivo também contém  informações da localização da loja. As colunas de localização serão o código do município e código da área de ponderação. Estes códigos são os mesmos utilizados pelo IBGE\n",
    "\n",
    "    * cenarios_exapansao.csv: Dados cadastrais de lojas para serem utilizadas no desafio 2. Este arquivo contém as mesmas informações contidas no arquivo lojas_atuais.csv\n",
    "    \n",
    "* **Features**\n",
    "\n",
    "    * faturamento_lojas_atuais.csv:\n",
    "        \n",
    "        * cod_loja - número de identificação da loja, é único para cada loja\n",
    "        \n",
    "        * ano - ano de registro da receita\n",
    "        \n",
    "        * mes - mes de registro da receita\n",
    "        \n",
    "        * categoria (?) - categoria de produto vendido\n",
    "        \n",
    "        * qtde (?) - quantidade de produtos da categoria vendidos\n",
    "        \n",
    "        * receita - receita para a respectiva categoria de produtos no mês e ano especificados\n",
    "        \n",
    "    * lojas_atuais.csv e cenarios_expansao.csv:\n",
    "        \n",
    "        * cod_loja - número de identificação da loja, é único para cada loja\n",
    "        \n",
    "        * cod_ap - código de área de ponderação, definido pelo IBGE e restringem pequenas áreas dentro de municípios\n",
    "        \n",
    "        * cod_municipio - código do município, definido pelo IBGE\n",
    "        \n",
    "        * feature_01 a feature_18 - não explicitadas\n",
    "        \n",
    "Será elaborada a _dataframe_ **\"df_raw\"**, oriunda da junção de **\"df_faturamento_raw\"** e **\"df_lojas_raw\"**, carregados dos _datasets_ fornecidos. Por consequência, uma mesma loja possuirá várias linhas, representando o faturamento mês a mes."
   ]
  },
  {
   "cell_type": "code",
   "execution_count": 12,
   "metadata": {
    "ExecuteTime": {
     "end_time": "2020-11-10T19:07:00.430391Z",
     "start_time": "2020-11-10T19:06:57.921030Z"
    }
   },
   "outputs": [
    {
     "data": {
      "text/html": [
       "<div>\n",
       "<style scoped>\n",
       "    .dataframe tbody tr th:only-of-type {\n",
       "        vertical-align: middle;\n",
       "    }\n",
       "\n",
       "    .dataframe tbody tr th {\n",
       "        vertical-align: top;\n",
       "    }\n",
       "\n",
       "    .dataframe thead th {\n",
       "        text-align: right;\n",
       "    }\n",
       "</style>\n",
       "<table border=\"1\" class=\"dataframe\">\n",
       "  <thead>\n",
       "    <tr style=\"text-align: right;\">\n",
       "      <th></th>\n",
       "      <th>cod_loja</th>\n",
       "      <th>cod_ap</th>\n",
       "      <th>cod_municipio</th>\n",
       "      <th>feature_01</th>\n",
       "      <th>feature_02</th>\n",
       "      <th>feature_03</th>\n",
       "      <th>feature_04</th>\n",
       "      <th>feature_05</th>\n",
       "      <th>feature_06</th>\n",
       "      <th>feature_07</th>\n",
       "      <th>...</th>\n",
       "      <th>feature_14</th>\n",
       "      <th>feature_15</th>\n",
       "      <th>feature_16</th>\n",
       "      <th>feature_17</th>\n",
       "      <th>feature_18</th>\n",
       "      <th>ano</th>\n",
       "      <th>mes</th>\n",
       "      <th>categoria</th>\n",
       "      <th>qtde</th>\n",
       "      <th>receita</th>\n",
       "    </tr>\n",
       "  </thead>\n",
       "  <tbody>\n",
       "    <tr>\n",
       "      <th>0</th>\n",
       "      <td>1</td>\n",
       "      <td>4125506005002</td>\n",
       "      <td>4125506</td>\n",
       "      <td>NaN</td>\n",
       "      <td>FEATURE_02_VALUE_04</td>\n",
       "      <td>True</td>\n",
       "      <td>21.76</td>\n",
       "      <td>FEATURE_05_VALUE_04</td>\n",
       "      <td>31</td>\n",
       "      <td>0.168922</td>\n",
       "      <td>...</td>\n",
       "      <td>NaN</td>\n",
       "      <td>NaN</td>\n",
       "      <td>NaN</td>\n",
       "      <td>NaN</td>\n",
       "      <td>NaN</td>\n",
       "      <td>2016</td>\n",
       "      <td>1</td>\n",
       "      <td>CATEG_01</td>\n",
       "      <td>301.0</td>\n",
       "      <td>9164.86</td>\n",
       "    </tr>\n",
       "    <tr>\n",
       "      <th>1</th>\n",
       "      <td>1</td>\n",
       "      <td>4125506005002</td>\n",
       "      <td>4125506</td>\n",
       "      <td>NaN</td>\n",
       "      <td>FEATURE_02_VALUE_04</td>\n",
       "      <td>True</td>\n",
       "      <td>21.76</td>\n",
       "      <td>FEATURE_05_VALUE_04</td>\n",
       "      <td>31</td>\n",
       "      <td>0.168922</td>\n",
       "      <td>...</td>\n",
       "      <td>NaN</td>\n",
       "      <td>NaN</td>\n",
       "      <td>NaN</td>\n",
       "      <td>NaN</td>\n",
       "      <td>NaN</td>\n",
       "      <td>2016</td>\n",
       "      <td>2</td>\n",
       "      <td>CATEG_01</td>\n",
       "      <td>187.0</td>\n",
       "      <td>8175.55</td>\n",
       "    </tr>\n",
       "    <tr>\n",
       "      <th>2</th>\n",
       "      <td>1</td>\n",
       "      <td>4125506005002</td>\n",
       "      <td>4125506</td>\n",
       "      <td>NaN</td>\n",
       "      <td>FEATURE_02_VALUE_04</td>\n",
       "      <td>True</td>\n",
       "      <td>21.76</td>\n",
       "      <td>FEATURE_05_VALUE_04</td>\n",
       "      <td>31</td>\n",
       "      <td>0.168922</td>\n",
       "      <td>...</td>\n",
       "      <td>NaN</td>\n",
       "      <td>NaN</td>\n",
       "      <td>NaN</td>\n",
       "      <td>NaN</td>\n",
       "      <td>NaN</td>\n",
       "      <td>2016</td>\n",
       "      <td>3</td>\n",
       "      <td>CATEG_01</td>\n",
       "      <td>242.0</td>\n",
       "      <td>10521.67</td>\n",
       "    </tr>\n",
       "    <tr>\n",
       "      <th>3</th>\n",
       "      <td>1</td>\n",
       "      <td>4125506005002</td>\n",
       "      <td>4125506</td>\n",
       "      <td>NaN</td>\n",
       "      <td>FEATURE_02_VALUE_04</td>\n",
       "      <td>True</td>\n",
       "      <td>21.76</td>\n",
       "      <td>FEATURE_05_VALUE_04</td>\n",
       "      <td>31</td>\n",
       "      <td>0.168922</td>\n",
       "      <td>...</td>\n",
       "      <td>NaN</td>\n",
       "      <td>NaN</td>\n",
       "      <td>NaN</td>\n",
       "      <td>NaN</td>\n",
       "      <td>NaN</td>\n",
       "      <td>2016</td>\n",
       "      <td>4</td>\n",
       "      <td>CATEG_01</td>\n",
       "      <td>104.0</td>\n",
       "      <td>4560.91</td>\n",
       "    </tr>\n",
       "    <tr>\n",
       "      <th>4</th>\n",
       "      <td>1</td>\n",
       "      <td>4125506005002</td>\n",
       "      <td>4125506</td>\n",
       "      <td>NaN</td>\n",
       "      <td>FEATURE_02_VALUE_04</td>\n",
       "      <td>True</td>\n",
       "      <td>21.76</td>\n",
       "      <td>FEATURE_05_VALUE_04</td>\n",
       "      <td>31</td>\n",
       "      <td>0.168922</td>\n",
       "      <td>...</td>\n",
       "      <td>NaN</td>\n",
       "      <td>NaN</td>\n",
       "      <td>NaN</td>\n",
       "      <td>NaN</td>\n",
       "      <td>NaN</td>\n",
       "      <td>2016</td>\n",
       "      <td>5</td>\n",
       "      <td>CATEG_01</td>\n",
       "      <td>100.0</td>\n",
       "      <td>4263.30</td>\n",
       "    </tr>\n",
       "  </tbody>\n",
       "</table>\n",
       "<p>5 rows × 26 columns</p>\n",
       "</div>"
      ],
      "text/plain": [
       "   cod_loja         cod_ap  cod_municipio feature_01           feature_02  \\\n",
       "0         1  4125506005002        4125506        NaN  FEATURE_02_VALUE_04   \n",
       "1         1  4125506005002        4125506        NaN  FEATURE_02_VALUE_04   \n",
       "2         1  4125506005002        4125506        NaN  FEATURE_02_VALUE_04   \n",
       "3         1  4125506005002        4125506        NaN  FEATURE_02_VALUE_04   \n",
       "4         1  4125506005002        4125506        NaN  FEATURE_02_VALUE_04   \n",
       "\n",
       "   feature_03  feature_04           feature_05  feature_06  feature_07  ...  \\\n",
       "0        True       21.76  FEATURE_05_VALUE_04          31    0.168922  ...   \n",
       "1        True       21.76  FEATURE_05_VALUE_04          31    0.168922  ...   \n",
       "2        True       21.76  FEATURE_05_VALUE_04          31    0.168922  ...   \n",
       "3        True       21.76  FEATURE_05_VALUE_04          31    0.168922  ...   \n",
       "4        True       21.76  FEATURE_05_VALUE_04          31    0.168922  ...   \n",
       "\n",
       "   feature_14  feature_15  feature_16 feature_17 feature_18   ano  mes  \\\n",
       "0         NaN         NaN         NaN        NaN        NaN  2016    1   \n",
       "1         NaN         NaN         NaN        NaN        NaN  2016    2   \n",
       "2         NaN         NaN         NaN        NaN        NaN  2016    3   \n",
       "3         NaN         NaN         NaN        NaN        NaN  2016    4   \n",
       "4         NaN         NaN         NaN        NaN        NaN  2016    5   \n",
       "\n",
       "   categoria   qtde   receita  \n",
       "0   CATEG_01  301.0   9164.86  \n",
       "1   CATEG_01  187.0   8175.55  \n",
       "2   CATEG_01  242.0  10521.67  \n",
       "3   CATEG_01  104.0   4560.91  \n",
       "4   CATEG_01  100.0   4263.30  \n",
       "\n",
       "[5 rows x 26 columns]"
      ]
     },
     "execution_count": 12,
     "metadata": {},
     "output_type": "execute_result"
    }
   ],
   "source": [
    "df_expansao_raw = pd.read_csv(\"./data/raw/cenarios_expansao.csv\")\n",
    "df_faturamento_raw = pd.read_csv(\"./data/raw/faturamento_lojas_atuais.csv\")\n",
    "df_lojas_raw = pd.read_csv(\"./data/raw/lojas_atuais.csv\")\n",
    "\n",
    "# merge\n",
    "df_raw = pd.merge(df_lojas_raw, df_faturamento_raw, how = 'left', on = 'cod_loja')\n",
    "df_raw.head()"
   ]
  },
  {
   "cell_type": "markdown",
   "metadata": {},
   "source": [
    "# 2. Descrição dos Dados\n",
    "\n",
    "Esta seção incluirá os seguintes tópicos:\n",
    "\n",
    "* Dimensão dos Dados\n",
    "\n",
    "* Tipo dos Dados\n",
    "\n",
    "* Verificação de Dados faltantes\n",
    "\n",
    "* Estatística Descritiva\n",
    "\n",
    "* Tratamento de Dados faltantes"
   ]
  },
  {
   "cell_type": "code",
   "execution_count": 13,
   "metadata": {
    "ExecuteTime": {
     "end_time": "2020-11-10T20:02:34.341322Z",
     "start_time": "2020-11-10T20:02:30.626023Z"
    }
   },
   "outputs": [],
   "source": [
    "df1 = df_raw.copy()"
   ]
  },
  {
   "cell_type": "code",
   "execution_count": 14,
   "metadata": {
    "ExecuteTime": {
     "end_time": "2020-11-10T20:02:40.011817Z",
     "start_time": "2020-11-10T20:02:39.958554Z"
    }
   },
   "outputs": [
    {
     "data": {
      "text/plain": [
       "Index(['cod_loja', 'cod_ap', 'cod_municipio', 'feature_01', 'feature_02',\n",
       "       'feature_03', 'feature_04', 'feature_05', 'feature_06', 'feature_07',\n",
       "       'feature_08', 'feature_09', 'feature_10', 'feature_11', 'feature_12',\n",
       "       'feature_13', 'feature_14', 'feature_15', 'feature_16', 'feature_17',\n",
       "       'feature_18', 'ano', 'mes', 'categoria', 'qtde', 'receita'],\n",
       "      dtype='object')"
      ]
     },
     "execution_count": 14,
     "metadata": {},
     "output_type": "execute_result"
    }
   ],
   "source": [
    "df1.columns"
   ]
  },
  {
   "cell_type": "markdown",
   "metadata": {},
   "source": [
    "## 2.1. Dimensão dos Dados\n",
    "\n",
    "De forma a entender quão grande o _dataset_ de análise é, será analisada a dimensão do _dataframe_ em questão. Verifica-se que há **1003094** linhas e **26** colunas."
   ]
  },
  {
   "cell_type": "code",
   "execution_count": 15,
   "metadata": {
    "ExecuteTime": {
     "end_time": "2020-11-10T20:04:30.514203Z",
     "start_time": "2020-11-10T20:04:30.496125Z"
    }
   },
   "outputs": [
    {
     "name": "stdout",
     "output_type": "stream",
     "text": [
      "Número de linhas: 1003094\n",
      "Número de colunas: 26\n"
     ]
    }
   ],
   "source": [
    "print(\"Número de linhas: {}\".format(df1.shape[0]))\n",
    "print(\"Número de colunas: {}\".format(df1.shape[1]))"
   ]
  },
  {
   "cell_type": "markdown",
   "metadata": {},
   "source": [
    "## 2.2. Tipo dos Dados\n",
    "\n",
    "Em seguida, serão analisados os tipos de dados existentes no _dataset_, de modo a abordar cada um apropriadamente."
   ]
  },
  {
   "cell_type": "code",
   "execution_count": 18,
   "metadata": {
    "ExecuteTime": {
     "end_time": "2020-11-10T20:09:22.553632Z",
     "start_time": "2020-11-10T20:09:22.524683Z"
    }
   },
   "outputs": [
    {
     "data": {
      "text/plain": [
       "cod_loja           int64\n",
       "cod_ap             int64\n",
       "cod_municipio      int64\n",
       "feature_01        object\n",
       "feature_02        object\n",
       "feature_03          bool\n",
       "feature_04       float64\n",
       "feature_05        object\n",
       "feature_06         int64\n",
       "feature_07       float64\n",
       "feature_08       float64\n",
       "feature_09       float64\n",
       "feature_10       float64\n",
       "feature_11        object\n",
       "feature_12        object\n",
       "feature_13       float64\n",
       "feature_14       float64\n",
       "feature_15       float64\n",
       "feature_16       float64\n",
       "feature_17       float64\n",
       "feature_18       float64\n",
       "ano                int64\n",
       "mes                int64\n",
       "categoria         object\n",
       "qtde             float64\n",
       "receita          float64\n",
       "dtype: object"
      ]
     },
     "execution_count": 18,
     "metadata": {},
     "output_type": "execute_result"
    }
   ],
   "source": [
    "df1.dtypes"
   ]
  },
  {
   "cell_type": "markdown",
   "metadata": {},
   "source": [
    "## 2.3. Verificação dos Dados Faltantes\n",
    "\n",
    "É necessário verificar dados faltantes pelo fato de os algoritmos de _Machine Learning_ atuais não reconhecerem dados nulos. Assim, para um melhor desempenho do modelo, é essencial avaliá-los."
   ]
  },
  {
   "cell_type": "code",
   "execution_count": 26,
   "metadata": {
    "ExecuteTime": {
     "end_time": "2020-11-10T20:20:58.807966Z",
     "start_time": "2020-11-10T20:20:58.237450Z"
    }
   },
   "outputs": [
    {
     "data": {
      "text/plain": [
       "feature_11       922631\n",
       "feature_12       922631\n",
       "feature_15       714038\n",
       "feature_18       714038\n",
       "feature_17       714038\n",
       "feature_16       714038\n",
       "feature_14       714038\n",
       "feature_13       714038\n",
       "feature_01       635785\n",
       "feature_04            0\n",
       "feature_03            0\n",
       "feature_02            0\n",
       "receita               0\n",
       "feature_06            0\n",
       "cod_municipio         0\n",
       "cod_ap                0\n",
       "feature_05            0\n",
       "feature_10            0\n",
       "feature_07            0\n",
       "feature_08            0\n",
       "feature_09            0\n",
       "qtde                  0\n",
       "ano                   0\n",
       "mes                   0\n",
       "categoria             0\n",
       "cod_loja              0\n",
       "dtype: int64"
      ]
     },
     "execution_count": 26,
     "metadata": {},
     "output_type": "execute_result"
    }
   ],
   "source": [
    "df1.isna().sum().sort_values(ascending = False)"
   ]
  },
  {
   "cell_type": "markdown",
   "metadata": {},
   "source": [
    "## 2.4. Tratamento de Dados faltantes\n",
    "\n",
    "<font color='red'>???????????????????</font>\n",
    "\n",
    "<font color='red'>???????????????????</font>\n",
    "\n",
    "<font color='red'>???????????????????</font>\n",
    "\n",
    "<font color='red'>???????????????????</font>\n",
    "\n",
    "<font color='red'>???????????????????</font>"
   ]
  },
  {
   "cell_type": "code",
   "execution_count": null,
   "metadata": {},
   "outputs": [],
   "source": []
  },
  {
   "cell_type": "markdown",
   "metadata": {},
   "source": [
    "## 2.5. Estatística Descritiva\n",
    "\n",
    "Para realizar uma estatística descritiva, deve-se separar as variáveis númericas das categoricas, pois cada uma possuirá uma forma diferente de análise."
   ]
  },
  {
   "cell_type": "code",
   "execution_count": 42,
   "metadata": {
    "ExecuteTime": {
     "end_time": "2020-11-10T20:53:35.600030Z",
     "start_time": "2020-11-10T20:53:35.350792Z"
    }
   },
   "outputs": [],
   "source": [
    "num_attributes = df1.select_dtypes(include = ['int64', 'float64']).drop(['cod_loja', 'cod_ap', 'cod_municipio'], axis = 1)\n",
    "cat_attributes = df1.select_dtypes(exclude = ['int64', 'float64'])"
   ]
  },
  {
   "cell_type": "markdown",
   "metadata": {},
   "source": [
    "### 2.5.1. Variáveis Numéricas\n",
    "\n",
    "Para as variáveis numéricas, serão realizadas dois tipos de análise:\n",
    "\n",
    "* Tendência central\n",
    "    * Média\n",
    "    * Mediana\n",
    "    \n",
    "* Dispersão\n",
    "    * Desvio Padrão\n",
    "    * Mínimo\n",
    "    * Máximo\n",
    "    * Intervalo\n",
    "    * Assimetria\n",
    "    * Curtose"
   ]
  },
  {
   "cell_type": "code",
   "execution_count": 46,
   "metadata": {
    "ExecuteTime": {
     "end_time": "2020-11-10T20:58:21.227738Z",
     "start_time": "2020-11-10T20:58:19.238032Z"
    }
   },
   "outputs": [
    {
     "data": {
      "text/html": [
       "<div>\n",
       "<style scoped>\n",
       "    .dataframe tbody tr th:only-of-type {\n",
       "        vertical-align: middle;\n",
       "    }\n",
       "\n",
       "    .dataframe tbody tr th {\n",
       "        vertical-align: top;\n",
       "    }\n",
       "\n",
       "    .dataframe thead th {\n",
       "        text-align: right;\n",
       "    }\n",
       "</style>\n",
       "<table border=\"1\" class=\"dataframe\">\n",
       "  <thead>\n",
       "    <tr style=\"text-align: right;\">\n",
       "      <th></th>\n",
       "      <th>index</th>\n",
       "      <th>count</th>\n",
       "      <th>mean</th>\n",
       "      <th>std</th>\n",
       "      <th>min</th>\n",
       "      <th>25%</th>\n",
       "      <th>50%</th>\n",
       "      <th>75%</th>\n",
       "      <th>max</th>\n",
       "      <th>intervalo</th>\n",
       "      <th>assimetria</th>\n",
       "      <th>curtose</th>\n",
       "    </tr>\n",
       "  </thead>\n",
       "  <tbody>\n",
       "    <tr>\n",
       "      <th>0</th>\n",
       "      <td>feature_04</td>\n",
       "      <td>1,003,094.00</td>\n",
       "      <td>34.39</td>\n",
       "      <td>13.78</td>\n",
       "      <td>3.50</td>\n",
       "      <td>25.66</td>\n",
       "      <td>31.92</td>\n",
       "      <td>41.11</td>\n",
       "      <td>117.36</td>\n",
       "      <td>113.86</td>\n",
       "      <td>1.05</td>\n",
       "      <td>2.60</td>\n",
       "    </tr>\n",
       "    <tr>\n",
       "      <th>1</th>\n",
       "      <td>feature_06</td>\n",
       "      <td>1,003,094.00</td>\n",
       "      <td>5.75</td>\n",
       "      <td>4.95</td>\n",
       "      <td>0.00</td>\n",
       "      <td>3.00</td>\n",
       "      <td>4.00</td>\n",
       "      <td>7.00</td>\n",
       "      <td>63.00</td>\n",
       "      <td>63.00</td>\n",
       "      <td>3.80</td>\n",
       "      <td>24.55</td>\n",
       "    </tr>\n",
       "    <tr>\n",
       "      <th>2</th>\n",
       "      <td>feature_07</td>\n",
       "      <td>1,003,094.00</td>\n",
       "      <td>0.17</td>\n",
       "      <td>0.05</td>\n",
       "      <td>0.06</td>\n",
       "      <td>0.14</td>\n",
       "      <td>0.18</td>\n",
       "      <td>0.20</td>\n",
       "      <td>0.41</td>\n",
       "      <td>0.35</td>\n",
       "      <td>0.50</td>\n",
       "      <td>0.97</td>\n",
       "    </tr>\n",
       "    <tr>\n",
       "      <th>3</th>\n",
       "      <td>feature_08</td>\n",
       "      <td>1,003,094.00</td>\n",
       "      <td>0.17</td>\n",
       "      <td>0.05</td>\n",
       "      <td>0.04</td>\n",
       "      <td>0.13</td>\n",
       "      <td>0.17</td>\n",
       "      <td>0.19</td>\n",
       "      <td>0.39</td>\n",
       "      <td>0.35</td>\n",
       "      <td>0.33</td>\n",
       "      <td>0.70</td>\n",
       "    </tr>\n",
       "    <tr>\n",
       "      <th>4</th>\n",
       "      <td>feature_09</td>\n",
       "      <td>1,003,094.00</td>\n",
       "      <td>602.74</td>\n",
       "      <td>1,383.63</td>\n",
       "      <td>1.44</td>\n",
       "      <td>11.82</td>\n",
       "      <td>56.55</td>\n",
       "      <td>334.70</td>\n",
       "      <td>5,593.91</td>\n",
       "      <td>5,592.47</td>\n",
       "      <td>2.95</td>\n",
       "      <td>7.56</td>\n",
       "    </tr>\n",
       "    <tr>\n",
       "      <th>5</th>\n",
       "      <td>feature_10</td>\n",
       "      <td>1,003,094.00</td>\n",
       "      <td>3.92</td>\n",
       "      <td>2.64</td>\n",
       "      <td>0.42</td>\n",
       "      <td>2.40</td>\n",
       "      <td>3.16</td>\n",
       "      <td>4.46</td>\n",
       "      <td>31.80</td>\n",
       "      <td>31.38</td>\n",
       "      <td>3.29</td>\n",
       "      <td>19.35</td>\n",
       "    </tr>\n",
       "    <tr>\n",
       "      <th>6</th>\n",
       "      <td>feature_13</td>\n",
       "      <td>289,056.00</td>\n",
       "      <td>94.82</td>\n",
       "      <td>8.58</td>\n",
       "      <td>44.10</td>\n",
       "      <td>92.20</td>\n",
       "      <td>100.00</td>\n",
       "      <td>100.00</td>\n",
       "      <td>100.00</td>\n",
       "      <td>55.90</td>\n",
       "      <td>-2.15</td>\n",
       "      <td>5.11</td>\n",
       "    </tr>\n",
       "    <tr>\n",
       "      <th>7</th>\n",
       "      <td>feature_14</td>\n",
       "      <td>289,056.00</td>\n",
       "      <td>83.71</td>\n",
       "      <td>13.49</td>\n",
       "      <td>0.00</td>\n",
       "      <td>79.70</td>\n",
       "      <td>86.90</td>\n",
       "      <td>91.90</td>\n",
       "      <td>100.00</td>\n",
       "      <td>100.00</td>\n",
       "      <td>-3.27</td>\n",
       "      <td>16.43</td>\n",
       "    </tr>\n",
       "    <tr>\n",
       "      <th>8</th>\n",
       "      <td>feature_15</td>\n",
       "      <td>289,056.00</td>\n",
       "      <td>82.51</td>\n",
       "      <td>34.54</td>\n",
       "      <td>0.00</td>\n",
       "      <td>100.00</td>\n",
       "      <td>100.00</td>\n",
       "      <td>100.00</td>\n",
       "      <td>100.00</td>\n",
       "      <td>100.00</td>\n",
       "      <td>-1.74</td>\n",
       "      <td>1.34</td>\n",
       "    </tr>\n",
       "    <tr>\n",
       "      <th>9</th>\n",
       "      <td>feature_16</td>\n",
       "      <td>289,056.00</td>\n",
       "      <td>96.23</td>\n",
       "      <td>12.95</td>\n",
       "      <td>50.00</td>\n",
       "      <td>100.00</td>\n",
       "      <td>100.00</td>\n",
       "      <td>100.00</td>\n",
       "      <td>100.00</td>\n",
       "      <td>50.00</td>\n",
       "      <td>-3.23</td>\n",
       "      <td>8.55</td>\n",
       "    </tr>\n",
       "    <tr>\n",
       "      <th>10</th>\n",
       "      <td>feature_17</td>\n",
       "      <td>289,056.00</td>\n",
       "      <td>83.43</td>\n",
       "      <td>17.29</td>\n",
       "      <td>13.10</td>\n",
       "      <td>72.00</td>\n",
       "      <td>91.30</td>\n",
       "      <td>97.60</td>\n",
       "      <td>100.00</td>\n",
       "      <td>86.90</td>\n",
       "      <td>-1.12</td>\n",
       "      <td>0.67</td>\n",
       "    </tr>\n",
       "    <tr>\n",
       "      <th>11</th>\n",
       "      <td>feature_18</td>\n",
       "      <td>289,056.00</td>\n",
       "      <td>88.33</td>\n",
       "      <td>9.19</td>\n",
       "      <td>42.10</td>\n",
       "      <td>83.50</td>\n",
       "      <td>90.50</td>\n",
       "      <td>95.60</td>\n",
       "      <td>99.90</td>\n",
       "      <td>57.80</td>\n",
       "      <td>-1.25</td>\n",
       "      <td>1.74</td>\n",
       "    </tr>\n",
       "    <tr>\n",
       "      <th>12</th>\n",
       "      <td>ano</td>\n",
       "      <td>1,003,094.00</td>\n",
       "      <td>2,016.50</td>\n",
       "      <td>0.50</td>\n",
       "      <td>2,016.00</td>\n",
       "      <td>2,016.00</td>\n",
       "      <td>2,017.00</td>\n",
       "      <td>2,017.00</td>\n",
       "      <td>2,017.00</td>\n",
       "      <td>1.00</td>\n",
       "      <td>-0.01</td>\n",
       "      <td>-2.00</td>\n",
       "    </tr>\n",
       "    <tr>\n",
       "      <th>13</th>\n",
       "      <td>mes</td>\n",
       "      <td>1,003,094.00</td>\n",
       "      <td>6.51</td>\n",
       "      <td>3.45</td>\n",
       "      <td>1.00</td>\n",
       "      <td>4.00</td>\n",
       "      <td>7.00</td>\n",
       "      <td>10.00</td>\n",
       "      <td>12.00</td>\n",
       "      <td>11.00</td>\n",
       "      <td>-0.00</td>\n",
       "      <td>-1.22</td>\n",
       "    </tr>\n",
       "    <tr>\n",
       "      <th>14</th>\n",
       "      <td>qtde</td>\n",
       "      <td>1,003,094.00</td>\n",
       "      <td>204.39</td>\n",
       "      <td>348.23</td>\n",
       "      <td>0.00</td>\n",
       "      <td>20.00</td>\n",
       "      <td>77.00</td>\n",
       "      <td>249.00</td>\n",
       "      <td>12,160.00</td>\n",
       "      <td>12,160.00</td>\n",
       "      <td>5.00</td>\n",
       "      <td>47.52</td>\n",
       "    </tr>\n",
       "    <tr>\n",
       "      <th>15</th>\n",
       "      <td>receita</td>\n",
       "      <td>1,003,094.00</td>\n",
       "      <td>9,334.46</td>\n",
       "      <td>23,670.26</td>\n",
       "      <td>0.00</td>\n",
       "      <td>600.54</td>\n",
       "      <td>2,252.82</td>\n",
       "      <td>7,675.57</td>\n",
       "      <td>975,106.40</td>\n",
       "      <td>975,106.40</td>\n",
       "      <td>7.50</td>\n",
       "      <td>94.52</td>\n",
       "    </tr>\n",
       "  </tbody>\n",
       "</table>\n",
       "</div>"
      ],
      "text/plain": [
       "         index        count     mean       std      min      25%      50%  \\\n",
       "0   feature_04 1,003,094.00    34.39     13.78     3.50    25.66    31.92   \n",
       "1   feature_06 1,003,094.00     5.75      4.95     0.00     3.00     4.00   \n",
       "2   feature_07 1,003,094.00     0.17      0.05     0.06     0.14     0.18   \n",
       "3   feature_08 1,003,094.00     0.17      0.05     0.04     0.13     0.17   \n",
       "4   feature_09 1,003,094.00   602.74  1,383.63     1.44    11.82    56.55   \n",
       "5   feature_10 1,003,094.00     3.92      2.64     0.42     2.40     3.16   \n",
       "6   feature_13   289,056.00    94.82      8.58    44.10    92.20   100.00   \n",
       "7   feature_14   289,056.00    83.71     13.49     0.00    79.70    86.90   \n",
       "8   feature_15   289,056.00    82.51     34.54     0.00   100.00   100.00   \n",
       "9   feature_16   289,056.00    96.23     12.95    50.00   100.00   100.00   \n",
       "10  feature_17   289,056.00    83.43     17.29    13.10    72.00    91.30   \n",
       "11  feature_18   289,056.00    88.33      9.19    42.10    83.50    90.50   \n",
       "12         ano 1,003,094.00 2,016.50      0.50 2,016.00 2,016.00 2,017.00   \n",
       "13         mes 1,003,094.00     6.51      3.45     1.00     4.00     7.00   \n",
       "14        qtde 1,003,094.00   204.39    348.23     0.00    20.00    77.00   \n",
       "15     receita 1,003,094.00 9,334.46 23,670.26     0.00   600.54 2,252.82   \n",
       "\n",
       "        75%        max  intervalo  assimetria  curtose  \n",
       "0     41.11     117.36     113.86        1.05     2.60  \n",
       "1      7.00      63.00      63.00        3.80    24.55  \n",
       "2      0.20       0.41       0.35        0.50     0.97  \n",
       "3      0.19       0.39       0.35        0.33     0.70  \n",
       "4    334.70   5,593.91   5,592.47        2.95     7.56  \n",
       "5      4.46      31.80      31.38        3.29    19.35  \n",
       "6    100.00     100.00      55.90       -2.15     5.11  \n",
       "7     91.90     100.00     100.00       -3.27    16.43  \n",
       "8    100.00     100.00     100.00       -1.74     1.34  \n",
       "9    100.00     100.00      50.00       -3.23     8.55  \n",
       "10    97.60     100.00      86.90       -1.12     0.67  \n",
       "11    95.60      99.90      57.80       -1.25     1.74  \n",
       "12 2,017.00   2,017.00       1.00       -0.01    -2.00  \n",
       "13    10.00      12.00      11.00       -0.00    -1.22  \n",
       "14   249.00  12,160.00  12,160.00        5.00    47.52  \n",
       "15 7,675.57 975,106.40 975,106.40        7.50    94.52  "
      ]
     },
     "execution_count": 46,
     "metadata": {},
     "output_type": "execute_result"
    }
   ],
   "source": [
    "d1 = num_attributes.describe()\n",
    "d2 = pd.DataFrame({\"intervalo\" : num_attributes.apply(lambda x: x.max() - x.min())}).T\n",
    "d3 = pd.DataFrame({\"assimetria\" : num_attributes.apply(lambda x: x.skew())}).T\n",
    "d4 = pd.DataFrame({\"curtose\" : num_attributes.apply(lambda x: x.kurtosis())}).T\n",
    "\n",
    "m = pd.concat([d1, d2, d3, d4]).T.reset_index()\n",
    "m"
   ]
  },
  {
   "cell_type": "markdown",
   "metadata": {},
   "source": [
    "Observando os dados estatísticos de \"receita\", tem-se:\n",
    "\n",
    "* Média = 9334,46; indica a média mensal de receita de todas lojas e todas categorias de produto\n",
    "* Desvio Padrão (std) = 23670,26; este valor de desvio padrão diz que há valores negativos de receita, considerando a média acima, o que não faz sentido. Em análises bivariadas este parâmetro será mais explorado\n",
    "* Mínimo (min) = 0; indica que, em determinado mês, alguma categoria de produto não vendeu nenhuma unidade \n",
    "* Máximo (max) = 975106,4\n",
    "* Assimetria = 7,5; indica que os valores de receita possuem uma \"cauda\" mais longa do lado direito da ordenada, ou, em outras palavras, que os dados estão concentrados mais a esquerda quando comparados com uma distribuição normal\n",
    "* Curtose = 94,52; indica o \"achatamento\" da curva, ou seja, a curva de receita é concentrada predominantemente em uma região"
   ]
  },
  {
   "cell_type": "markdown",
   "metadata": {},
   "source": [
    "### 2.5.2. Atributos categóricos\n",
    "\n",
    "Para a análise de atributos categóricos, são utilizados _boxplots_, de modo a analisar visualmente a dispersão, posição, simetria e outliers do _dataset_.\n",
    "\n",
    "<font color='red'>???????????????????</font>\n",
    "\n",
    "COLOCAR ANALISE DOS GRAFICOS\n",
    "\n",
    "<font color='red'>???????????????????</font>"
   ]
  },
  {
   "cell_type": "code",
   "execution_count": 108,
   "metadata": {
    "ExecuteTime": {
     "end_time": "2020-11-10T22:25:05.683674Z",
     "start_time": "2020-11-10T22:24:14.641697Z"
    }
   },
   "outputs": [
    {
     "data": {
      "image/png": "[encoded data removed]",
      "text/plain": [
       "<Figure size 1800x2160 with 4 Axes>"
      ]
     },
     "metadata": {},
     "output_type": "display_data"
    }
   ],
   "source": [
    "plt.subplot(4,1,1)\n",
    "_ = sns.boxplot(x = 'feature_02', y = 'receita', data = df1)\n",
    "\n",
    "plt.subplot(4,1,2)\n",
    "_ = sns.boxplot(x = 'feature_03', y = 'receita', data = df1)\n",
    "\n",
    "plt.subplot(4,1,3)\n",
    "_ = sns.boxplot(x = 'feature_05', y = 'receita', data = df1)\n",
    "_ = plt.xticks(rotation = 10)\n",
    "\n",
    "plt.subplot(4,1,4)\n",
    "_ = sns.boxplot(x = 'categoria', y = 'receita', data = df1)\n",
    "_ = plt.xticks(rotation = 45)"
   ]
  },
  {
   "cell_type": "code",
   "execution_count": 57,
   "metadata": {
    "ExecuteTime": {
     "end_time": "2020-11-10T21:49:39.983725Z",
     "start_time": "2020-11-10T21:49:39.723421Z"
    }
   },
   "outputs": [
    {
     "data": {
      "text/plain": [
       "feature_01    635785\n",
       "feature_02         0\n",
       "feature_03         0\n",
       "feature_05         0\n",
       "feature_11    922631\n",
       "feature_12    922631\n",
       "categoria          0\n",
       "dtype: int64"
      ]
     },
     "execution_count": 57,
     "metadata": {},
     "output_type": "execute_result"
    }
   ],
   "source": [
    "cat_attributes.isna().sum()"
   ]
  }
 ],
 "metadata": {
  "kernelspec": {
   "display_name": "Python 3",
   "language": "python",
   "name": "python3"
  },
  "language_info": {
   "codemirror_mode": {
    "name": "ipython",
    "version": 3
   },
   "file_extension": ".py",
   "mimetype": "text/x-python",
   "name": "python",
   "nbconvert_exporter": "python",
   "pygments_lexer": "ipython3",
   "version": "3.8.5"
  }
 },
 "nbformat": 4,
 "nbformat_minor": 4
}
